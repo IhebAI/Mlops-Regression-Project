{
 "cells": [
  {
   "cell_type": "code",
   "execution_count": 1,
   "metadata": {
    "ExecuteTime": {
     "end_time": "2024-07-05T19:00:47.120914400Z",
     "start_time": "2024-07-05T19:00:47.033618100Z"
    }
   },
   "outputs": [],
   "source": [
    "import os\n",
    "import pickle"
   ]
  },
  {
   "cell_type": "code",
   "execution_count": 2,
   "metadata": {
    "ExecuteTime": {
     "end_time": "2024-07-05T19:00:47.123908300Z",
     "start_time": "2024-07-05T19:00:47.046331600Z"
    }
   },
   "outputs": [
    {
     "data": {
      "text/plain": "'C:\\\\Users\\\\iheba\\\\IdeaProjects\\\\Mlops-Regression-Project\\\\research'"
     },
     "execution_count": 2,
     "metadata": {},
     "output_type": "execute_result"
    }
   ],
   "source": [
    "%pwd"
   ]
  },
  {
   "cell_type": "code",
   "execution_count": 3,
   "metadata": {
    "ExecuteTime": {
     "end_time": "2024-07-05T19:00:47.123908300Z",
     "start_time": "2024-07-05T19:00:47.060799100Z"
    }
   },
   "outputs": [],
   "source": [
    "os.chdir(\"../\")"
   ]
  },
  {
   "cell_type": "code",
   "execution_count": 4,
   "metadata": {
    "ExecuteTime": {
     "end_time": "2024-07-05T19:00:47.123908300Z",
     "start_time": "2024-07-05T19:00:47.070452400Z"
    }
   },
   "outputs": [
    {
     "data": {
      "text/plain": "'C:\\\\Users\\\\iheba\\\\IdeaProjects\\\\Mlops-Regression-Project'"
     },
     "execution_count": 4,
     "metadata": {},
     "output_type": "execute_result"
    }
   ],
   "source": [
    "%pwd"
   ]
  },
  {
   "cell_type": "code",
   "execution_count": 5,
   "metadata": {
    "ExecuteTime": {
     "end_time": "2024-07-05T19:00:47.124909300Z",
     "start_time": "2024-07-05T19:00:47.087391900Z"
    }
   },
   "outputs": [],
   "source": [
    "from dataclasses import dataclass\n",
    "from pathlib import Path\n",
    "\n",
    "@dataclass(frozen=True)\n",
    "class ModelEvaluationConfig:\n",
    "    root_dir: Path\n",
    "    metric_file_name: Path\n",
    "    mlflow_uri: str\n",
    "    transformed_data_test: Path\n",
    "    transformed_data_train: Path\n",
    "    model_path: Path\n",
    "    all_params: dict\n",
    "    target_column: str\n",
    "\n",
    "@dataclass(frozen=True)\n",
    "class DagsHubConfig:\n",
    "    repo_owner: str\n",
    "    repo_name: str\n",
    "    mlflow: bool\n"
   ]
  },
  {
   "cell_type": "code",
   "execution_count": 6,
   "metadata": {
    "ExecuteTime": {
     "end_time": "2024-07-05T19:00:48.301215400Z",
     "start_time": "2024-07-05T19:00:47.099910500Z"
    }
   },
   "outputs": [],
   "source": [
    "from RegressionProject.constants import *\n",
    "from RegressionProject.utils.common import read_yaml, create_directories, save_json, load_object_pkl, read_transformed_data"
   ]
  },
  {
   "cell_type": "code",
   "execution_count": 7,
   "metadata": {
    "ExecuteTime": {
     "end_time": "2024-07-05T19:00:48.317941Z",
     "start_time": "2024-07-05T19:00:48.312929200Z"
    }
   },
   "outputs": [],
   "source": [
    "class ConfigurationManager:\n",
    "    def __init__(\n",
    "        self,\n",
    "        config_filepath = CONFIG_FILE_PATH,\n",
    "        params_filepath = PARAMS_FILE_PATH,\n",
    "        schema_filepath = SCHEMA_FILE_PATH):\n",
    "\n",
    "        self.config = read_yaml(config_filepath)\n",
    "        self.params = read_yaml(params_filepath)\n",
    "        self.schema = read_yaml(schema_filepath)\n",
    "\n",
    "        create_directories([self.config.artifacts_root])\n",
    "\n",
    "    def get_dags_hub_config(self) -> DagsHubConfig:\n",
    "        config_dags_hub = self.config.dags_hub\n",
    "\n",
    "        dags_hub_config = DagsHubConfig(\n",
    "            repo_owner=config_dags_hub.repo_owner,\n",
    "            repo_name = config_dags_hub.repo_name,\n",
    "            mlflow=config_dags_hub.mlflow,\n",
    "        )\n",
    "        return dags_hub_config\n",
    "    \n",
    "    def get_model_evaluation_config(self) -> ModelEvaluationConfig:\n",
    "        config_model_eval = self.config.model_evaluation\n",
    "        config_model_train = self.config.model_trainer\n",
    "        config_model_transform = self.config.data_transformation\n",
    "\n",
    "        params = self.params\n",
    "        schema =  self.schema.TARGET_COLUMN\n",
    "\n",
    "        create_directories([config_model_eval.root_dir])\n",
    "\n",
    "        model_evaluation_config = ModelEvaluationConfig(\n",
    "            root_dir=config_model_eval.root_dir,\n",
    "            metric_file_name = config_model_eval.metric_file_name,\n",
    "            mlflow_uri=config_model_eval.mlflow_uri,\n",
    "            transformed_data_test=config_model_transform.transformed_data_test,\n",
    "            transformed_data_train=config_model_transform.transformed_data_train,\n",
    "            model_path = config_model_train.trained_model_file_path,\n",
    "            target_column = schema.name,\n",
    "            all_params=params,       \n",
    "        )\n",
    "        return model_evaluation_config"
   ]
  },
  {
   "cell_type": "code",
   "execution_count": 8,
   "metadata": {
    "ExecuteTime": {
     "end_time": "2024-07-05T19:00:52.323590300Z",
     "start_time": "2024-07-05T19:00:48.320942300Z"
    }
   },
   "outputs": [],
   "source": [
    "from sklearn.metrics import mean_squared_error, mean_absolute_error, r2_score\n",
    "from urllib.parse import urlparse\n",
    "import dagshub\n",
    "import mlflow.sklearn\n",
    "import numpy as np"
   ]
  },
  {
   "cell_type": "code",
   "execution_count": 33,
   "metadata": {
    "ExecuteTime": {
     "end_time": "2024-07-05T19:48:23.750299Z",
     "start_time": "2024-07-05T19:48:23.728508700Z"
    }
   },
   "outputs": [],
   "source": [
    "import subprocess\n",
    "from RegressionProject.utils.common import load_best_model_from_json\n",
    "\n",
    "class ModelEvaluation:\n",
    "    def __init__(self, evaluation_config: ModelEvaluationConfig , dags_hub_config: DagsHubConfig):\n",
    "        self.evaluation_config = evaluation_config\n",
    "        self.dags_hub_config = dags_hub_config\n",
    "    \n",
    "    def eval_metrics(self,actual, pred):\n",
    "        rmse = np.sqrt(mean_squared_error(actual, pred))\n",
    "        mae = mean_absolute_error(actual, pred)\n",
    "        r2 = r2_score(actual, pred)\n",
    "        return rmse, mae, r2\n",
    "\n",
    "\n",
    "    def get_git_info(self):\n",
    "        repo_url = subprocess.check_output([\"git\", \"config\", \"--get\", \"remote.origin.url\"]).strip().decode()\n",
    "        commit_hash = subprocess.check_output([\"git\", \"rev-parse\", \"HEAD\"]).strip().decode()\n",
    "        branch_name = subprocess.check_output([\"git\", \"rev-parse\", \"--abbrev-ref\", \"HEAD\"]).strip().decode()\n",
    "        return repo_url, commit_hash, branch_name\n",
    "        \n",
    "    def log_into_mlflow(self):\n",
    "\n",
    "        repo_url, commit_hash, branch_name=self.get_git_info()\n",
    "        \n",
    "        dagshub.init(repo_owner=self.dags_hub_config.repo_owner, repo_name=self.dags_hub_config.repo_name, mlflow=self.dags_hub_config.mlflow)\n",
    "\n",
    "        _, _, test_x, test_y = read_transformed_data(self.evaluation_config.transformed_data_train, self.evaluation_config.transformed_data_test)\n",
    "\n",
    "        # Load the model from the pickle file\n",
    "        model=load_object_pkl(self.evaluation_config.model_path)\n",
    "        \n",
    "        mlflow.set_registry_uri(self.evaluation_config.mlflow_uri)\n",
    "        tracking_url_type_store = urlparse(mlflow.get_tracking_uri()).scheme\n",
    "\n",
    "\n",
    "        predicted_math_scores = model.predict(test_x)\n",
    "        rmse, mae, r2 = self.eval_metrics(test_y, predicted_math_scores)\n",
    "\n",
    "        # Saving metrics as local\n",
    "        scores = {\"rmse\": rmse, \"mae\": mae, \"r2\": r2}\n",
    "        save_json(path=Path(self.evaluation_config.metric_file_name), data=scores)\n",
    "\n",
    "\n",
    "\n",
    "\n",
    "        best_model_name, results = load_best_model_from_json(\"artifacts/model_trainer/train_results.json\")\n",
    "\n",
    "        with mlflow.start_run():\n",
    "            mlflow.log_artifact('params.yaml', artifact_path=\"all_models_params/all_models_and_params\")\n",
    "            mlflow.log_artifact('artifacts/model_trainer/train_results.json', artifact_path=\"all_models_params/best_models_params\")\n",
    "            mlflow.log_artifact('schema.yaml', artifact_path=\"schema\")\n",
    "            mlflow.log_artifact('requirements.txt', artifact_path=\"training_requirements\")\n",
    "            mlflow.log_artifact('config/config.yaml', artifact_path=\"configuration\")\n",
    "            mlflow.log_artifact('logs/running_logs.log', artifact_path=\"training_logs\")\n",
    "            \n",
    "            mlflow.log_param(\"best_model_name\", best_model_name)\n",
    "            mlflow.log_param(\"repo_url\", repo_url)\n",
    "            mlflow.log_param(\"branch_name\", branch_name)\n",
    "            mlflow.log_param(\"commit_hash\", commit_hash)\n",
    "            for param in results[best_model_name]['best_params']:\n",
    "                mlflow.log_param(param, results[best_model_name]['best_params'][param])\n",
    "                \n",
    "            mlflow.log_metric(\"rmse\", rmse)\n",
    "            mlflow.log_metric(\"r2\", r2)\n",
    "            mlflow.log_metric(\"mae\", mae)\n",
    "            \n",
    "            \n",
    "\n",
    "\n",
    "\n",
    "\n",
    "        # Model registry does not work with file store\n",
    "            if tracking_url_type_store != \"file\":\n",
    "\n",
    "                # Register the model\n",
    "                # There are other ways to use the Model Registry, which depends on the use case,\n",
    "                # please refer to the doc for more information:\n",
    "                # https://mlflow.org/docs/latest/model-registry.html#api-workflow\n",
    "                mlflow.sklearn.log_model(model, \"model\", registered_model_name=\"best_regression_model\")\n",
    "            else:\n",
    "                mlflow.sklearn.log_model(model, \"model\")\n",
    "\n"
   ]
  },
  {
   "cell_type": "code",
   "execution_count": 34,
   "metadata": {
    "ExecuteTime": {
     "end_time": "2024-07-05T19:48:41.521513800Z",
     "start_time": "2024-07-05T19:48:24.389405300Z"
    }
   },
   "outputs": [
    {
     "name": "stdout",
     "output_type": "stream",
     "text": [
      "[2024-07-05 12:48:24,395: INFO: common: yaml file: config\\config.yaml loaded successfully]\n",
      "[2024-07-05 12:48:24,404: INFO: common: yaml file: params.yaml loaded successfully]\n",
      "[2024-07-05 12:48:24,410: INFO: common: yaml file: schema.yaml loaded successfully]\n",
      "[2024-07-05 12:48:24,413: INFO: common: created directory at: artifacts]\n",
      "[2024-07-05 12:48:24,416: INFO: common: created directory at: artifacts/model_evaluation]\n",
      "[2024-07-05 12:48:25,909: INFO: _client: HTTP Request: GET https://dagshub.com/api/v1/repos/iheb.aamrii/Mlops-Regression-Project \"HTTP/1.1 200 OK\"]\n"
     ]
    },
    {
     "data": {
      "text/plain": "Initialized MLflow to track repo \u001B[32m\"iheb.aamrii/Mlops-Regression-Project\"\u001B[0m\n",
      "text/html": "<pre style=\"white-space:pre;overflow-x:auto;line-height:normal;font-family:Menlo,'DejaVu Sans Mono',consolas,'Courier New',monospace\">Initialized MLflow to track repo <span style=\"color: #008000; text-decoration-color: #008000\">\"iheb.aamrii/Mlops-Regression-Project\"</span>\n</pre>\n"
     },
     "metadata": {},
     "output_type": "display_data"
    },
    {
     "name": "stdout",
     "output_type": "stream",
     "text": [
      "[2024-07-05 12:48:25,920: INFO: helpers: Initialized MLflow to track repo \"iheb.aamrii/Mlops-Regression-Project\"]\n"
     ]
    },
    {
     "data": {
      "text/plain": "Repository iheb.aamrii/Mlops-Regression-Project initialized!\n",
      "text/html": "<pre style=\"white-space:pre;overflow-x:auto;line-height:normal;font-family:Menlo,'DejaVu Sans Mono',consolas,'Courier New',monospace\">Repository iheb.aamrii/Mlops-Regression-Project initialized!\n</pre>\n"
     },
     "metadata": {},
     "output_type": "display_data"
    },
    {
     "name": "stdout",
     "output_type": "stream",
     "text": [
      "[2024-07-05 12:48:25,925: INFO: helpers: Repository iheb.aamrii/Mlops-Regression-Project initialized!]\n",
      "[2024-07-05 12:48:25,957: INFO: common: json file saved at: artifacts\\model_evaluation\\metrics.json]\n"
     ]
    },
    {
     "name": "stderr",
     "output_type": "stream",
     "text": [
      "Registered model 'best_regression_model' already exists. Creating a new version of this model...\n",
      "2024/07/05 12:48:41 INFO mlflow.tracking._model_registry.client: Waiting up to 300 seconds for model version to finish creation.                     Model name: best_regression_model, version 26\n",
      "Created version '26' of model 'best_regression_model'.\n"
     ]
    }
   ],
   "source": [
    "try:\n",
    "    config = ConfigurationManager()\n",
    "    model_evaluation_config = config.get_model_evaluation_config()\n",
    "    dags_hub_config = config.get_dags_hub_config()\n",
    "    model_evaluation_config = ModelEvaluation(model_evaluation_config,dags_hub_config)\n",
    "    model_evaluation_config.log_into_mlflow()\n",
    "except Exception as e:\n",
    "    raise e"
   ]
  },
  {
   "cell_type": "code",
   "execution_count": null,
   "outputs": [],
   "source": [
    "# Version Control: Use version control for datasets. Each version of the dataset should be immutable and identifiable via a unique version ID or timestamp.\n",
    "# dataset used to train and the one used for  test // what about transformed data ?\n",
    "# Log Data Checksums or Hashes:\n",
    "#Calculate and log hashes of the split datasets to verify their integrity.\n",
    "#Log Metadata about Split Datasets:\n",
    "#Log metadata such as the number of records in each split, basic statistics, etc.\n",
    "\n",
    "\n",
    "#Log Split Parameters\n",
    "#Parameters like split ratio, random seed, stratification details, etc., should be logged. (reproduce or re-get used data train / test transformed or not )\n",
    "# Log artifacts such as the trained model, plots, or any files generated during the experiment. log artifacts or pointer to them of each step\n",
    "# Log the environment details such as the versions of libraries used. and what else ?\n",
    "\n",
    "\n",
    "\n",
    "\n",
    "phone notes\n",
    "read the last conversation\n",
    "https://chatgpt.com/c/9c12fd3e-7eb8-468b-89ed-fd43b435603e\n",
    "\n",
    "\n",
    "compare model evaluation to the 3 projects \n",
    "compare model prediction and app.py to the 3 projects\n",
    "use notebooks code to update the modularized code : test notebooks before\n",
    "\n",
    "add dvc \n",
    "add airflow or zenml or kubeflow\n",
    "Vault\n",
    "feature store\n",
    "dockerize  the solution\n",
    "kubernetess\n",
    "cI/CD\n",
    "graphana prometheus for monitoring and elk for logs \n"
   ],
   "metadata": {
    "collapsed": false,
    "ExecuteTime": {
     "start_time": "2024-07-05T19:00:55.696008500Z"
    }
   }
  },
  {
   "cell_type": "code",
   "execution_count": null,
   "outputs": [],
   "source": [
    "#Predict from logged model\n",
    "_, _, test_x, test_y = read_transformed_data('artifacts/data_transformation/transformed_train_data.csv', 'artifacts/data_transformation/transformed_test_data.csv')\n",
    "\n",
    "\n",
    "import mlflow\n",
    "logged_model = 'runs:/3803771e0c3248debaa97c8ae4aa7412/model'\n",
    "\n",
    "# Load model as a PyFuncModel.\n",
    "loaded_model = mlflow.pyfunc.load_model(logged_model)\n",
    "\n",
    "# Predict on a Pandas DataFrame.\n",
    "import pandas as pd\n",
    "loaded_model.predict(pd.DataFrame(test_x))"
   ],
   "metadata": {
    "collapsed": false,
    "ExecuteTime": {
     "start_time": "2024-07-05T19:00:55.699012Z"
    }
   }
  }
 ],
 "metadata": {
  "kernelspec": {
   "display_name": "mlproj",
   "language": "python",
   "name": "python3"
  },
  "language_info": {
   "codemirror_mode": {
    "name": "ipython",
    "version": 3
   },
   "file_extension": ".py",
   "mimetype": "text/x-python",
   "name": "python",
   "nbconvert_exporter": "python",
   "pygments_lexer": "ipython3",
   "version": "3.8.16"
  },
  "orig_nbformat": 4
 },
 "nbformat": 4,
 "nbformat_minor": 2
}
