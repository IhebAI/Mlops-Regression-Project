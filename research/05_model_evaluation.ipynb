{
 "cells": [
  {
   "cell_type": "code",
   "execution_count": 1,
   "metadata": {
    "ExecuteTime": {
     "end_time": "2024-06-27T17:33:19.837609300Z",
     "start_time": "2024-06-27T17:33:19.834182Z"
    }
   },
   "outputs": [],
   "source": [
    "import os\n",
    "import pickle"
   ]
  },
  {
   "cell_type": "code",
   "execution_count": 2,
   "metadata": {
    "ExecuteTime": {
     "end_time": "2024-06-27T17:33:19.847124Z",
     "start_time": "2024-06-27T17:33:19.838610100Z"
    }
   },
   "outputs": [
    {
     "data": {
      "text/plain": "'C:\\\\Users\\\\iheba\\\\IdeaProjects\\\\Mlops-Regression-Project\\\\research'"
     },
     "execution_count": 2,
     "metadata": {},
     "output_type": "execute_result"
    }
   ],
   "source": [
    "%pwd"
   ]
  },
  {
   "cell_type": "code",
   "execution_count": 3,
   "metadata": {
    "ExecuteTime": {
     "end_time": "2024-06-27T17:33:19.852462200Z",
     "start_time": "2024-06-27T17:33:19.846123400Z"
    }
   },
   "outputs": [],
   "source": [
    "os.chdir(\"../\")"
   ]
  },
  {
   "cell_type": "code",
   "execution_count": 4,
   "metadata": {
    "ExecuteTime": {
     "end_time": "2024-06-27T17:33:19.881632100Z",
     "start_time": "2024-06-27T17:33:19.853462800Z"
    }
   },
   "outputs": [
    {
     "data": {
      "text/plain": "'C:\\\\Users\\\\iheba\\\\IdeaProjects\\\\Mlops-Regression-Project'"
     },
     "execution_count": 4,
     "metadata": {},
     "output_type": "execute_result"
    }
   ],
   "source": [
    "%pwd"
   ]
  },
  {
   "cell_type": "code",
   "execution_count": 5,
   "metadata": {
    "ExecuteTime": {
     "end_time": "2024-06-27T17:33:19.882632900Z",
     "start_time": "2024-06-27T17:33:19.861964400Z"
    }
   },
   "outputs": [],
   "source": [
    "os.environ[\"MLFLOW_TRACKING_URI\"]=\"https://dagshub.com/entbappy/End-to-end-Machine-Learning-Project-with-MLflow.mlflow\"\n",
    "os.environ[\"MLFLOW_TRACKING_USERNAME\"]=\"entbappy\"\n",
    "os.environ[\"MLFLOW_TRACKING_PASSWORD\"]=\"6824692c47a369aa6f9eac5b10041d5c8edbcef0\"\n"
   ]
  },
  {
   "cell_type": "code",
   "execution_count": 6,
   "metadata": {
    "ExecuteTime": {
     "end_time": "2024-06-27T17:33:19.882632900Z",
     "start_time": "2024-06-27T17:33:19.867583800Z"
    }
   },
   "outputs": [],
   "source": [
    "from dataclasses import dataclass\n",
    "from pathlib import Path\n",
    "\n",
    "@dataclass(frozen=True)\n",
    "class ModelEvaluationConfig:\n",
    "    root_dir: Path\n",
    "    metric_file_name: Path\n",
    "    mlflow_uri: str\n",
    "    transformed_data_test: Path\n",
    "    transformed_data_train: Path\n",
    "    model_path: Path\n",
    "    all_params: dict\n",
    "    target_column: str\n"
   ]
  },
  {
   "cell_type": "code",
   "execution_count": 7,
   "metadata": {
    "ExecuteTime": {
     "end_time": "2024-06-27T17:33:20.238489400Z",
     "start_time": "2024-06-27T17:33:19.875626800Z"
    }
   },
   "outputs": [],
   "source": [
    "from RegressionProject.constants import *\n",
    "from RegressionProject.utils.common import read_yaml, create_directories, save_json, load_object_pkl"
   ]
  },
  {
   "cell_type": "code",
   "execution_count": 8,
   "metadata": {
    "ExecuteTime": {
     "end_time": "2024-06-27T17:33:20.243782400Z",
     "start_time": "2024-06-27T17:33:20.241489300Z"
    }
   },
   "outputs": [],
   "source": [
    "class ConfigurationManager:\n",
    "    def __init__(\n",
    "        self,\n",
    "        config_filepath = CONFIG_FILE_PATH,\n",
    "        params_filepath = PARAMS_FILE_PATH,\n",
    "        schema_filepath = SCHEMA_FILE_PATH):\n",
    "\n",
    "        self.config = read_yaml(config_filepath)\n",
    "        self.params = read_yaml(params_filepath)\n",
    "        self.schema = read_yaml(schema_filepath)\n",
    "\n",
    "        create_directories([self.config.artifacts_root])\n",
    "\n",
    "    \n",
    "    def get_model_evaluation_config(self) -> ModelEvaluationConfig:\n",
    "        config_model_eval = self.config.model_evaluation\n",
    "        config_model_train = self.config.model_trainer\n",
    "        config_model_transform = self.config.data_transformation\n",
    "\n",
    "        params = self.params\n",
    "        schema =  self.schema.TARGET_COLUMN\n",
    "\n",
    "        create_directories([config_model_eval.root_dir])\n",
    "\n",
    "        model_evaluation_config = ModelEvaluationConfig(\n",
    "            root_dir=config_model_eval.root_dir,\n",
    "            metric_file_name = config_model_eval.metric_file_name,\n",
    "            mlflow_uri=config_model_eval.mlflow_uri,\n",
    "            transformed_data_test=config_model_transform.transformed_data_test,\n",
    "            transformed_data_train=config_model_transform.transformed_data_train,\n",
    "            model_path = config_model_train.trained_model_file_path,\n",
    "            target_column = schema.name,\n",
    "\n",
    "            all_params=params,\n",
    "           \n",
    "        )\n",
    "        print(model_evaluation_config)\n",
    "        return model_evaluation_config\n"
   ]
  },
  {
   "cell_type": "code",
   "execution_count": 9,
   "metadata": {
    "ExecuteTime": {
     "end_time": "2024-06-27T17:33:21.479502400Z",
     "start_time": "2024-06-27T17:33:20.244782400Z"
    }
   },
   "outputs": [],
   "source": [
    "import os\n",
    "import pandas as pd\n",
    "from sklearn.metrics import mean_squared_error, mean_absolute_error, r2_score\n",
    "from urllib.parse import urlparse\n",
    "import mlflow\n",
    "import mlflow.sklearn\n",
    "import numpy as np"
   ]
  },
  {
   "cell_type": "code",
   "execution_count": 14,
   "metadata": {
    "ExecuteTime": {
     "end_time": "2024-06-27T17:36:57.065640500Z",
     "start_time": "2024-06-27T17:36:57.060506100Z"
    }
   },
   "outputs": [],
   "source": [
    "from RegressionProject.utils.common import read_transformed_data\n",
    "import pickle\n",
    "class ModelEvaluation:\n",
    "    def __init__(self, config: ModelEvaluationConfig):\n",
    "        self.config = config\n",
    "\n",
    "    \n",
    "    def eval_metrics(self,actual, pred):\n",
    "        rmse = np.sqrt(mean_squared_error(actual, pred))\n",
    "        mae = mean_absolute_error(actual, pred)\n",
    "        r2 = r2_score(actual, pred)\n",
    "        return rmse, mae, r2\n",
    "\n",
    "    def log_into_mlflow(self):\n",
    "        _, _, test_x, test_y = read_transformed_data(self.config.transformed_data_train, self.config.transformed_data_test)\n",
    "\n",
    "        # Load the model from the pickle file\n",
    "        model=load_object_pkl(self.config.model_path)\n",
    "\n",
    "        mlflow.set_registry_uri(self.config.mlflow_uri)\n",
    "        tracking_url_type_store = urlparse(mlflow.get_tracking_uri()).scheme\n",
    "\n",
    "        with mlflow.start_run():\n",
    "            predicted_math_scores = model.predict(test_x)\n",
    "            rmse, mae, r2 = self.eval_metrics(test_y, predicted_math_scores)\n",
    "\n",
    "            # Saving metrics as local\n",
    "            scores = {\"rmse\": rmse, \"mae\": mae, \"r2\": r2}\n",
    "            save_json(path=Path(self.config.metric_file_name), data=scores)\n",
    "\n",
    "            mlflow.log_params(self.config.all_params)\n",
    "\n",
    "            mlflow.log_metric(\"rmse\", rmse)\n",
    "            mlflow.log_metric(\"r2\", r2)\n",
    "            mlflow.log_metric(\"mae\", mae)\n",
    "\n",
    "\n",
    "            # Model registry does not work with file store\n",
    "            if tracking_url_type_store != \"file\":\n",
    "\n",
    "                # Register the model\n",
    "                # There are other ways to use the Model Registry, which depends on the use case,\n",
    "                # please refer to the doc for more information:\n",
    "                # https://mlflow.org/docs/latest/model-registry.html#api-workflow\n",
    "                mlflow.sklearn.log_model(model, \"model\", registered_model_name=\"best_model\")\n",
    "            else:\n",
    "                mlflow.sklearn.log_model(model, \"model\")\n",
    "    \n"
   ]
  },
  {
   "cell_type": "code",
   "execution_count": 15,
   "metadata": {
    "ExecuteTime": {
     "end_time": "2024-06-27T17:37:06.238528100Z",
     "start_time": "2024-06-27T17:36:57.840099100Z"
    }
   },
   "outputs": [
    {
     "name": "stdout",
     "output_type": "stream",
     "text": [
      "[2024-06-27 10:36:57,842: INFO: common: yaml file: config\\config.yaml loaded successfully]\n",
      "[2024-06-27 10:36:57,845: INFO: common: yaml file: params.yaml loaded successfully]\n",
      "[2024-06-27 10:36:57,847: INFO: common: yaml file: schema.yaml loaded successfully]\n",
      "[2024-06-27 10:36:57,847: INFO: common: created directory at: artifacts]\n",
      "[2024-06-27 10:36:57,848: INFO: common: created directory at: artifacts/model_evaluation]\n",
      "ModelEvaluationConfig(root_dir='artifacts/model_evaluation', metric_file_name='artifacts/model_evaluation/metrics.json', mlflow_uri='https://dagshub.com/iheb.aamrii/Mlops-Regression-Project.mlflow', transformed_data_test='artifacts/data_transformation/transformed_test_data.csv', transformed_data_train='artifacts/data_transformation/transformed_train_data.csv', model_path='artifacts/model_trainer/best_model.pkl', all_params=ConfigBox({'Decision_Tree': {'criterion': ['squared_error', 'friedman_mse', 'absolute_error', 'poisson']}, 'Random_Forest': {'n_estimators': [8, 16, 32, 64, 128, 256]}, 'Gradient_Boosting': {'learning_rate': [0.1, 0.01, 0.05, 0.001], 'subsample': [0.6, 0.7, 0.75, 0.8, 0.85, 0.9], 'n_estimators': [8, 16, 32, 64, 128, 256]}, 'Linear_Regression': None, 'XGBRegressor': {'learning_rate': [0.1, 0.01, 0.05, 0.001], 'n_estimators': [8, 16, 32, 64, 128, 256]}, 'CatBoosting_Regressor': {'depth': [6, 8, 10], 'learning_rate': [0.01, 0.05, 0.1], 'iterations': [30, 50, 100]}, 'AdaBoost_Regressor': {'learning_rate': [0.1, 0.01, 0.5, 0.001], 'n_estimators': [8, 16, 32, 64, 128, 256]}}), target_column='math_score')\n",
      "[2024-06-27 10:36:58,191: INFO: common: json file saved at: artifacts\\model_evaluation\\metrics.json]\n"
     ]
    },
    {
     "name": "stderr",
     "output_type": "stream",
     "text": [
      "Successfully registered model 'best_model'.\n",
      "2024/06/27 10:37:05 INFO mlflow.tracking._model_registry.client: Waiting up to 300 seconds for model version to finish creation.                     Model name: best_model, version 1\n",
      "Created version '1' of model 'best_model'.\n"
     ]
    }
   ],
   "source": [
    "try:\n",
    "    config = ConfigurationManager()\n",
    "    model_evaluation_config = config.get_model_evaluation_config()\n",
    "    model_evaluation_config = ModelEvaluation(config=model_evaluation_config)\n",
    "    model_evaluation_config.log_into_mlflow()\n",
    "except Exception as e:\n",
    "    raise e"
   ]
  },
  {
   "cell_type": "code",
   "execution_count": 12,
   "metadata": {
    "ExecuteTime": {
     "end_time": "2024-06-27T17:35:44.745502500Z",
     "start_time": "2024-06-27T17:35:42.802767200Z"
    }
   },
   "outputs": [
    {
     "name": "stdout",
     "output_type": "stream",
     "text": [
      "[2024-06-27 10:35:44,053: INFO: _client: HTTP Request: GET https://dagshub.com/api/v1/user \"HTTP/1.1 200 OK\"]\n",
      "[2024-06-27 10:35:44,678: INFO: _client: HTTP Request: GET https://dagshub.com/api/v1/repos/iheb.aamrii/Mlops-Regression-Project \"HTTP/1.1 200 OK\"]\n"
     ]
    },
    {
     "data": {
      "text/plain": "Initialized MLflow to track repo \u001B[32m\"iheb.aamrii/Mlops-Regression-Project\"\u001B[0m\n",
      "text/html": "<pre style=\"white-space:pre;overflow-x:auto;line-height:normal;font-family:Menlo,'DejaVu Sans Mono',consolas,'Courier New',monospace\">Initialized MLflow to track repo <span style=\"color: #008000; text-decoration-color: #008000\">\"iheb.aamrii/Mlops-Regression-Project\"</span>\n</pre>\n"
     },
     "metadata": {},
     "output_type": "display_data"
    },
    {
     "name": "stdout",
     "output_type": "stream",
     "text": [
      "[2024-06-27 10:35:44,684: INFO: helpers: Initialized MLflow to track repo \"iheb.aamrii/Mlops-Regression-Project\"]\n"
     ]
    },
    {
     "data": {
      "text/plain": "Repository iheb.aamrii/Mlops-Regression-Project initialized!\n",
      "text/html": "<pre style=\"white-space:pre;overflow-x:auto;line-height:normal;font-family:Menlo,'DejaVu Sans Mono',consolas,'Courier New',monospace\">Repository iheb.aamrii/Mlops-Regression-Project initialized!\n</pre>\n"
     },
     "metadata": {},
     "output_type": "display_data"
    },
    {
     "name": "stdout",
     "output_type": "stream",
     "text": [
      "[2024-06-27 10:35:44,686: INFO: helpers: Repository iheb.aamrii/Mlops-Regression-Project initialized!]\n"
     ]
    }
   ],
   "source": [
    "import dagshub\n",
    "dagshub.init(repo_owner='iheb.aamrii', repo_name='Mlops-Regression-Project', mlflow=True)\n"
   ]
  },
  {
   "cell_type": "code",
   "execution_count": null,
   "outputs": [],
   "source": [],
   "metadata": {
    "collapsed": false
   }
  }
 ],
 "metadata": {
  "kernelspec": {
   "display_name": "mlproj",
   "language": "python",
   "name": "python3"
  },
  "language_info": {
   "codemirror_mode": {
    "name": "ipython",
    "version": 3
   },
   "file_extension": ".py",
   "mimetype": "text/x-python",
   "name": "python",
   "nbconvert_exporter": "python",
   "pygments_lexer": "ipython3",
   "version": "3.8.16"
  },
  "orig_nbformat": 4
 },
 "nbformat": 4,
 "nbformat_minor": 2
}
