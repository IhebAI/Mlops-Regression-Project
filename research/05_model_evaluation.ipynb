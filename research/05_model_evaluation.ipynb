{
 "cells": [
  {
   "cell_type": "code",
   "execution_count": 1,
   "metadata": {
    "ExecuteTime": {
     "end_time": "2024-06-28T07:37:51.057333400Z",
     "start_time": "2024-06-28T07:37:51.052761300Z"
    }
   },
   "outputs": [],
   "source": [
    "import os\n",
    "import pickle"
   ]
  },
  {
   "cell_type": "code",
   "execution_count": 2,
   "metadata": {
    "ExecuteTime": {
     "end_time": "2024-06-28T07:37:51.070177200Z",
     "start_time": "2024-06-28T07:37:51.058331900Z"
    }
   },
   "outputs": [
    {
     "data": {
      "text/plain": "'C:\\\\Users\\\\iheba\\\\IdeaProjects\\\\Mlops-Regression-Project\\\\research'"
     },
     "execution_count": 2,
     "metadata": {},
     "output_type": "execute_result"
    }
   ],
   "source": [
    "%pwd"
   ]
  },
  {
   "cell_type": "code",
   "execution_count": 3,
   "metadata": {
    "ExecuteTime": {
     "end_time": "2024-06-28T07:37:51.073939300Z",
     "start_time": "2024-06-28T07:37:51.069189700Z"
    }
   },
   "outputs": [],
   "source": [
    "os.chdir(\"../\")"
   ]
  },
  {
   "cell_type": "code",
   "execution_count": 4,
   "metadata": {
    "ExecuteTime": {
     "end_time": "2024-06-28T07:37:51.083065300Z",
     "start_time": "2024-06-28T07:37:51.073939300Z"
    }
   },
   "outputs": [
    {
     "data": {
      "text/plain": "'C:\\\\Users\\\\iheba\\\\IdeaProjects\\\\Mlops-Regression-Project'"
     },
     "execution_count": 4,
     "metadata": {},
     "output_type": "execute_result"
    }
   ],
   "source": [
    "%pwd"
   ]
  },
  {
   "cell_type": "code",
   "execution_count": 6,
   "metadata": {
    "ExecuteTime": {
     "end_time": "2024-06-28T07:37:51.120941500Z",
     "start_time": "2024-06-28T07:37:51.089562900Z"
    }
   },
   "outputs": [],
   "source": [
    "from dataclasses import dataclass\n",
    "from pathlib import Path\n",
    "\n",
    "@dataclass(frozen=True)\n",
    "class ModelEvaluationConfig:\n",
    "    root_dir: Path\n",
    "    metric_file_name: Path\n",
    "    mlflow_uri: str\n",
    "    transformed_data_test: Path\n",
    "    transformed_data_train: Path\n",
    "    model_path: Path\n",
    "    all_params: dict\n",
    "    target_column: str\n"
   ]
  },
  {
   "cell_type": "code",
   "execution_count": 7,
   "metadata": {
    "ExecuteTime": {
     "end_time": "2024-06-28T07:37:51.431397900Z",
     "start_time": "2024-06-28T07:37:51.097410500Z"
    }
   },
   "outputs": [],
   "source": [
    "from RegressionProject.constants import *\n",
    "from RegressionProject.utils.common import read_yaml, create_directories, save_json, load_object_pkl, read_transformed_data"
   ]
  },
  {
   "cell_type": "code",
   "execution_count": 8,
   "metadata": {
    "ExecuteTime": {
     "end_time": "2024-06-28T07:37:51.438435200Z",
     "start_time": "2024-06-28T07:37:51.434398Z"
    }
   },
   "outputs": [],
   "source": [
    "class ConfigurationManager:\n",
    "    def __init__(\n",
    "        self,\n",
    "        config_filepath = CONFIG_FILE_PATH,\n",
    "        params_filepath = PARAMS_FILE_PATH,\n",
    "        schema_filepath = SCHEMA_FILE_PATH):\n",
    "\n",
    "        self.config = read_yaml(config_filepath)\n",
    "        self.params = read_yaml(params_filepath)\n",
    "        self.schema = read_yaml(schema_filepath)\n",
    "\n",
    "        create_directories([self.config.artifacts_root])\n",
    "\n",
    "    \n",
    "    def get_model_evaluation_config(self) -> ModelEvaluationConfig:\n",
    "        config_model_eval = self.config.model_evaluation\n",
    "        config_model_train = self.config.model_trainer\n",
    "        config_model_transform = self.config.data_transformation\n",
    "\n",
    "        params = self.params\n",
    "        schema =  self.schema.TARGET_COLUMN\n",
    "\n",
    "        create_directories([config_model_eval.root_dir])\n",
    "\n",
    "        model_evaluation_config = ModelEvaluationConfig(\n",
    "            root_dir=config_model_eval.root_dir,\n",
    "            metric_file_name = config_model_eval.metric_file_name,\n",
    "            mlflow_uri=config_model_eval.mlflow_uri,\n",
    "            transformed_data_test=config_model_transform.transformed_data_test,\n",
    "            transformed_data_train=config_model_transform.transformed_data_train,\n",
    "            model_path = config_model_train.trained_model_file_path,\n",
    "            target_column = schema.name,\n",
    "\n",
    "            all_params=params,\n",
    "           \n",
    "        )\n",
    "        return model_evaluation_config\n"
   ]
  },
  {
   "cell_type": "code",
   "execution_count": 9,
   "metadata": {
    "ExecuteTime": {
     "end_time": "2024-06-28T07:37:52.747018100Z",
     "start_time": "2024-06-28T07:37:51.439446900Z"
    }
   },
   "outputs": [],
   "source": [
    "from sklearn.metrics import mean_squared_error, mean_absolute_error, r2_score\n",
    "from urllib.parse import urlparse\n",
    "import dagshub\n",
    "import mlflow.sklearn\n",
    "import numpy as np"
   ]
  },
  {
   "cell_type": "code",
   "execution_count": 10,
   "metadata": {
    "ExecuteTime": {
     "end_time": "2024-06-28T07:37:52.753645100Z",
     "start_time": "2024-06-28T07:37:52.750017600Z"
    }
   },
   "outputs": [],
   "source": [
    "class ModelEvaluation:\n",
    "    def __init__(self, config: ModelEvaluationConfig):\n",
    "        self.config = config\n",
    "\n",
    "    \n",
    "    def eval_metrics(self,actual, pred):\n",
    "        rmse = np.sqrt(mean_squared_error(actual, pred))\n",
    "        mae = mean_absolute_error(actual, pred)\n",
    "        r2 = r2_score(actual, pred)\n",
    "        return rmse, mae, r2\n",
    "\n",
    "    def log_into_mlflow(self):\n",
    "        dagshub.init(repo_owner='iheb.aamrii', repo_name='Mlops-Regression-Project', mlflow=True)\n",
    "\n",
    "        _, _, test_x, test_y = read_transformed_data(self.config.transformed_data_train, self.config.transformed_data_test)\n",
    "\n",
    "        # Load the model from the pickle file\n",
    "        model=load_object_pkl(self.config.model_path)\n",
    "\n",
    "        mlflow.set_registry_uri(self.config.mlflow_uri)\n",
    "        tracking_url_type_store = urlparse(mlflow.get_tracking_uri()).scheme\n",
    "\n",
    "        with mlflow.start_run():\n",
    "            predicted_math_scores = model.predict(test_x)\n",
    "            rmse, mae, r2 = self.eval_metrics(test_y, predicted_math_scores)\n",
    "\n",
    "            # Saving metrics as local\n",
    "            scores = {\"rmse\": rmse, \"mae\": mae, \"r2\": r2}\n",
    "            save_json(path=Path(self.config.metric_file_name), data=scores)\n",
    "\n",
    "            mlflow.log_params(self.config.all_params)\n",
    "\n",
    "            mlflow.log_metric(\"rmse\", rmse)\n",
    "            mlflow.log_metric(\"r2\", r2)\n",
    "            mlflow.log_metric(\"mae\", mae)\n",
    "\n",
    "\n",
    "            # Model registry does not work with file store\n",
    "            if tracking_url_type_store != \"file\":\n",
    "\n",
    "                # Register the model\n",
    "                # There are other ways to use the Model Registry, which depends on the use case,\n",
    "                # please refer to the doc for more information:\n",
    "                # https://mlflow.org/docs/latest/model-registry.html#api-workflow\n",
    "                mlflow.sklearn.log_model(model, \"model\", registered_model_name=\"best_regression_model\")\n",
    "            else:\n",
    "                mlflow.sklearn.log_model(model, \"model\")\n",
    "    \n"
   ]
  },
  {
   "cell_type": "code",
   "execution_count": 11,
   "metadata": {
    "ExecuteTime": {
     "end_time": "2024-06-28T07:38:02.279319600Z",
     "start_time": "2024-06-28T07:37:52.753645100Z"
    }
   },
   "outputs": [
    {
     "name": "stdout",
     "output_type": "stream",
     "text": [
      "[2024-06-28 00:37:52,759: INFO: common: yaml file: config\\config.yaml loaded successfully]\n",
      "[2024-06-28 00:37:52,762: INFO: common: yaml file: params.yaml loaded successfully]\n",
      "[2024-06-28 00:37:52,764: INFO: common: yaml file: schema.yaml loaded successfully]\n",
      "[2024-06-28 00:37:52,765: INFO: common: created directory at: artifacts]\n",
      "[2024-06-28 00:37:52,766: INFO: common: created directory at: artifacts/model_evaluation]\n",
      "[2024-06-28 00:37:53,329: INFO: _client: HTTP Request: GET https://dagshub.com/api/v1/user \"HTTP/1.1 200 OK\"]\n",
      "[2024-06-28 00:37:54,036: INFO: _client: HTTP Request: GET https://dagshub.com/api/v1/repos/iheb.aamrii/Mlops-Regression-Project \"HTTP/1.1 200 OK\"]\n"
     ]
    },
    {
     "data": {
      "text/plain": "Initialized MLflow to track repo \u001B[32m\"iheb.aamrii/Mlops-Regression-Project\"\u001B[0m\n",
      "text/html": "<pre style=\"white-space:pre;overflow-x:auto;line-height:normal;font-family:Menlo,'DejaVu Sans Mono',consolas,'Courier New',monospace\">Initialized MLflow to track repo <span style=\"color: #008000; text-decoration-color: #008000\">\"iheb.aamrii/Mlops-Regression-Project\"</span>\n</pre>\n"
     },
     "metadata": {},
     "output_type": "display_data"
    },
    {
     "name": "stdout",
     "output_type": "stream",
     "text": [
      "[2024-06-28 00:37:54,040: INFO: helpers: Initialized MLflow to track repo \"iheb.aamrii/Mlops-Regression-Project\"]\n"
     ]
    },
    {
     "data": {
      "text/plain": "Repository iheb.aamrii/Mlops-Regression-Project initialized!\n",
      "text/html": "<pre style=\"white-space:pre;overflow-x:auto;line-height:normal;font-family:Menlo,'DejaVu Sans Mono',consolas,'Courier New',monospace\">Repository iheb.aamrii/Mlops-Regression-Project initialized!\n</pre>\n"
     },
     "metadata": {},
     "output_type": "display_data"
    },
    {
     "name": "stdout",
     "output_type": "stream",
     "text": [
      "[2024-06-28 00:37:54,041: INFO: helpers: Repository iheb.aamrii/Mlops-Regression-Project initialized!]\n",
      "[2024-06-28 00:37:54,684: INFO: common: json file saved at: artifacts\\model_evaluation\\metrics.json]\n"
     ]
    },
    {
     "name": "stderr",
     "output_type": "stream",
     "text": [
      "C:\\Users\\iheba\\IdeaProjects\\Microservices\\kafka\\Lib\\site-packages\\_distutils_hack\\__init__.py:33: UserWarning: Setuptools is replacing distutils.\n",
      "  warnings.warn(\"Setuptools is replacing distutils.\")\n",
      "Registered model 'best_regression_model' already exists. Creating a new version of this model...\n",
      "2024/06/28 00:38:01 INFO mlflow.tracking._model_registry.client: Waiting up to 300 seconds for model version to finish creation.                     Model name: best_regression_model, version 2\n",
      "Created version '2' of model 'best_regression_model'.\n"
     ]
    }
   ],
   "source": [
    "try:\n",
    "    config = ConfigurationManager()\n",
    "    model_evaluation_config = config.get_model_evaluation_config()\n",
    "    model_evaluation_config = ModelEvaluation(config=model_evaluation_config)\n",
    "    model_evaluation_config.log_into_mlflow()\n",
    "except Exception as e:\n",
    "    raise e"
   ]
  },
  {
   "cell_type": "code",
   "execution_count": 12,
   "outputs": [
    {
     "data": {
      "text/plain": "array([76.34375, 58.71875, 76.75   , 76.53125, 87.125  , 79.0625 ,\n       64.65625, 52.9375 , 74.25   , 48.9375 , 53.4375 , 36.09375,\n       68.0625 , 51.84375, 86.5625 , 70.625  , 51.71875, 46.625  ,\n       48.53125, 52.65625, 73.75   , 38.9375 , 57.21875, 36.21875,\n       78.28125, 81.75   , 75.375  , 45.90625, 31.5625 , 49.53125,\n       65.40625, 70.25   , 60.1875 , 83.09375, 83.6875 , 45.625  ,\n       76.0625 , 69.75   , 65.6875 ,  3.5    , 78.6875 , 67.125  ,\n       68.     , 60.34375, 79.5625 , 67.625  , 72.28125, 24.625  ,\n       85.9375 , 70.6875 , 75.     , 66.65625, 81.     , 45.375  ,\n       65.96875, 66.875  , 86.     , 58.625  , 81.9375 , 81.75   ,\n       47.6875 , 72.25   , 70.625  , 55.53125, 86.5    , 64.0625 ,\n       59.09375, 55.9375 , 57.125  , 82.     , 71.625  , 80.375  ,\n       58.     , 46.8125 , 61.25   , 84.8125 , 84.1875 , 60.21875,\n       59.5625 , 52.9375 , 63.3125 , 40.96875, 78.65625, 66.46875,\n       75.     , 54.875  , 66.875  , 63.8125 , 75.5625 , 25.59375,\n       73.8125 , 93.15625, 62.3125 , 75.5    , 28.6875 , 70.5625 ,\n       66.40625, 61.90625, 65.375  , 55.4375 , 75.6875 , 65.1875 ,\n       61.09375, 58.1875 , 74.     , 68.8125 , 52.96875, 79.65625,\n       69.9375 , 48.0625 , 34.625  , 73.5    , 61.4375 , 55.71875,\n       75.875  , 62.25   , 50.125  , 50.5625 , 72.5    , 78.84375,\n       60.125  , 53.0625 , 86.78125, 63.75   , 60.625  , 69.34375,\n       67.75   , 66.0625 , 48.65625, 72.25   , 73.875  , 75.84375,\n       45.03125, 88.     , 63.3125 , 33.5    , 77.4375 , 80.5625 ,\n       74.0625 , 39.5625 , 49.28125, 59.625  , 59.03125, 53.78125,\n       77.625  , 46.75   , 43.375  , 76.3125 , 56.78125, 78.84375,\n       74.875  , 76.3125 , 65.5    , 59.375  , 84.8125 , 72.71875,\n       43.71875, 63.0625 , 75.71875, 51.5625 , 61.9375 , 65.0625 ,\n       70.0625 , 53.96875, 89.     , 70.40625, 49.78125, 92.0625 ,\n       60.8125 , 72.     , 83.     , 78.75   , 80.78125, 69.6875 ,\n       57.1875 , 23.5    , 59.09375, 65.     , 91.46875, 67.125  ,\n       61.40625, 59.84375, 82.125  , 60.25   , 92.96875, 68.     ,\n       62.875  , 59.09375, 71.125  , 88.875  , 52.75   , 60.90625,\n       67.     , 65.46875, 54.375  , 43.53125, 61.9375 , 67.40625,\n       66.9375 , 62.3125 , 64.59375, 67.53125, 75.6875 , 67.     ,\n       70.75   , 22.96875, 87.3125 , 68.25   , 69.     , 43.6875 ,\n       69.0625 , 53.4375 , 69.5625 , 67.28125, 61.03125, 42.25   ,\n       68.71875, 61.65625, 78.5625 , 86.875  , 75.8125 , 52.59375,\n       67.8125 , 85.375  , 32.96875, 84.375  , 56.375  , 60.5625 ,\n       73.125  , 61.3125 , 74.5625 , 70.03125, 46.15625, 54.125  ,\n       46.1875 , 56.15625, 48.75   , 61.59375, 59.65625, 86.28125,\n       51.03125, 48.96875, 79.03125, 49.4375 , 90.1875 , 64.09375,\n       63.0625 , 82.5    , 39.46875, 93.59375])"
     },
     "execution_count": 12,
     "metadata": {},
     "output_type": "execute_result"
    }
   ],
   "source": [
    "#Predict from logged model\n",
    "_, _, test_x, test_y = read_transformed_data('artifacts/data_transformation/transformed_train_data.csv', 'artifacts/data_transformation/transformed_test_data.csv')\n",
    "\n",
    "\n",
    "import mlflow\n",
    "logged_model = 'runs:/3803771e0c3248debaa97c8ae4aa7412/model'\n",
    "\n",
    "# Load model as a PyFuncModel.\n",
    "loaded_model = mlflow.pyfunc.load_model(logged_model)\n",
    "\n",
    "# Predict on a Pandas DataFrame.\n",
    "import pandas as pd\n",
    "loaded_model.predict(pd.DataFrame(test_x))"
   ],
   "metadata": {
    "collapsed": false,
    "ExecuteTime": {
     "end_time": "2024-06-28T07:38:03.741591Z",
     "start_time": "2024-06-28T07:38:02.283831300Z"
    }
   }
  },
  {
   "cell_type": "code",
   "execution_count": 12,
   "outputs": [],
   "source": [],
   "metadata": {
    "collapsed": false,
    "ExecuteTime": {
     "end_time": "2024-06-28T07:38:03.747920100Z",
     "start_time": "2024-06-28T07:38:03.744913700Z"
    }
   }
  }
 ],
 "metadata": {
  "kernelspec": {
   "display_name": "mlproj",
   "language": "python",
   "name": "python3"
  },
  "language_info": {
   "codemirror_mode": {
    "name": "ipython",
    "version": 3
   },
   "file_extension": ".py",
   "mimetype": "text/x-python",
   "name": "python",
   "nbconvert_exporter": "python",
   "pygments_lexer": "ipython3",
   "version": "3.8.16"
  },
  "orig_nbformat": 4
 },
 "nbformat": 4,
 "nbformat_minor": 2
}
