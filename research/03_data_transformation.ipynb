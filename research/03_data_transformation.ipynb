{
 "cells": [
  {
   "cell_type": "code",
   "execution_count": 1,
   "metadata": {
    "ExecuteTime": {
     "end_time": "2024-06-25T15:12:30.016309700Z",
     "start_time": "2024-06-25T15:12:30.007020Z"
    }
   },
   "outputs": [],
   "source": [
    "import os"
   ]
  },
  {
   "cell_type": "code",
   "execution_count": 2,
   "metadata": {
    "ExecuteTime": {
     "end_time": "2024-06-25T15:12:30.021569700Z",
     "start_time": "2024-06-25T15:12:30.011306600Z"
    }
   },
   "outputs": [
    {
     "data": {
      "text/plain": "'C:\\\\Users\\\\iheba\\\\IdeaProjects\\\\Mlops-Regression-Project\\\\research'"
     },
     "execution_count": 2,
     "metadata": {},
     "output_type": "execute_result"
    }
   ],
   "source": [
    "%pwd"
   ]
  },
  {
   "cell_type": "code",
   "execution_count": 3,
   "metadata": {
    "ExecuteTime": {
     "end_time": "2024-06-25T15:12:30.025120100Z",
     "start_time": "2024-06-25T15:12:30.018570600Z"
    }
   },
   "outputs": [],
   "source": [
    "os.chdir(\"../\")"
   ]
  },
  {
   "cell_type": "code",
   "execution_count": 4,
   "metadata": {
    "ExecuteTime": {
     "end_time": "2024-06-25T15:12:30.035881200Z",
     "start_time": "2024-06-25T15:12:30.026120400Z"
    }
   },
   "outputs": [
    {
     "data": {
      "text/plain": "'C:\\\\Users\\\\iheba\\\\IdeaProjects\\\\Mlops-Regression-Project'"
     },
     "execution_count": 4,
     "metadata": {},
     "output_type": "execute_result"
    }
   ],
   "source": [
    "%pwd"
   ]
  },
  {
   "cell_type": "code",
   "execution_count": 5,
   "metadata": {
    "ExecuteTime": {
     "end_time": "2024-06-25T15:12:30.040319600Z",
     "start_time": "2024-06-25T15:12:30.035881200Z"
    }
   },
   "outputs": [],
   "source": [
    "from dataclasses import dataclass\n",
    "from pathlib import Path\n",
    "\n",
    "\n",
    "@dataclass(frozen=True)\n",
    "class DataTransformationConfig:\n",
    "    root_dir: Path\n",
    "    data_path: Path\n",
    "    data_train: Path\n",
    "    data_test: Path\n",
    "    transformed_data_train: Path\n",
    "    transformed_data_test: Path\n",
    "    preprocessor_obj_file_path: Path\n",
    "    numerical_columns: list\n",
    "    categorical_columns: list\n",
    "    target_column: str"
   ]
  },
  {
   "cell_type": "code",
   "execution_count": 6,
   "metadata": {
    "ExecuteTime": {
     "end_time": "2024-06-25T15:12:30.157018900Z",
     "start_time": "2024-06-25T15:12:30.041320500Z"
    }
   },
   "outputs": [],
   "source": [
    "from RegressionProject.constants import *\n",
    "from RegressionProject.utils.common import read_yaml, create_directories"
   ]
  },
  {
   "cell_type": "code",
   "execution_count": 7,
   "metadata": {
    "ExecuteTime": {
     "end_time": "2024-06-25T15:12:30.161788300Z",
     "start_time": "2024-06-25T15:12:30.158019100Z"
    }
   },
   "outputs": [],
   "source": [
    "class ConfigurationManager:\n",
    "    def __init__(\n",
    "            self,\n",
    "            config_filepath=CONFIG_FILE_PATH,\n",
    "            params_filepath=PARAMS_FILE_PATH,\n",
    "            schema_filepath=SCHEMA_FILE_PATH):\n",
    "        self.config = read_yaml(config_filepath)\n",
    "        self.params = read_yaml(params_filepath)\n",
    "        self.schema = read_yaml(schema_filepath)\n",
    "\n",
    "        create_directories([self.config.artifacts_root])\n",
    "\n",
    "    def get_data_transformation_config(self) -> DataTransformationConfig:\n",
    "        config = self.config.data_transformation\n",
    "        schema = self.schema\n",
    "\n",
    "        create_directories([config.root_dir])\n",
    "\n",
    "        data_transformation_config = DataTransformationConfig(\n",
    "            root_dir=config.root_dir,\n",
    "            data_path=config.data_path,\n",
    "            data_train=config.data_train,\n",
    "            data_test=config.data_test,\n",
    "            transformed_data_train=config.transformed_data_train,\n",
    "            transformed_data_test=config.transformed_data_test,\n",
    "            preprocessor_obj_file_path=config.preprocessor_obj_file_path,\n",
    "            numerical_columns=config.numerical_columns,\n",
    "            categorical_columns=config.categorical_columns,\n",
    "            target_column=schema.TARGET_COLUMN.name\n",
    "        )\n",
    "\n",
    "        return data_transformation_config"
   ]
  },
  {
   "cell_type": "code",
   "execution_count": 8,
   "metadata": {
    "ExecuteTime": {
     "end_time": "2024-06-25T15:12:30.774991400Z",
     "start_time": "2024-06-25T15:12:30.162787200Z"
    }
   },
   "outputs": [],
   "source": [
    "from RegressionProject.logging import logger\n",
    "from sklearn.model_selection import train_test_split\n",
    "import pandas as pd\n",
    "import numpy as np\n",
    "from sklearn.compose import ColumnTransformer\n",
    "from sklearn.impute import SimpleImputer\n",
    "from sklearn.pipeline import Pipeline\n",
    "from sklearn.preprocessing import OneHotEncoder, StandardScaler\n",
    "from RegressionProject.utils.common import save_object_pkl\n"
   ]
  },
  {
   "cell_type": "code",
   "execution_count": 9,
   "metadata": {
    "ExecuteTime": {
     "end_time": "2024-06-25T15:12:30.783829Z",
     "start_time": "2024-06-25T15:12:30.781121800Z"
    }
   },
   "outputs": [],
   "source": [
    "class DataTransformation:\n",
    "    def __init__(self, config: DataTransformationConfig):\n",
    "        self.config = config\n",
    "\n",
    "    def get_data_transformer_object(self):\n",
    "        try:\n",
    "\n",
    "            numerical_pipeline = Pipeline(\n",
    "                steps=[\n",
    "                    (\"imputer\", SimpleImputer(strategy=\"median\")),\n",
    "                    (\"scaler\", StandardScaler())\n",
    "                ]\n",
    "            )\n",
    "\n",
    "            categorical_pipeline = Pipeline(\n",
    "                steps=[\n",
    "                    (\"imputer\", SimpleImputer(strategy=\"most_frequent\")),\n",
    "                    (\"one_hot_encoder\", OneHotEncoder()),\n",
    "                    (\"scaler\", StandardScaler(with_mean=False))\n",
    "                ]\n",
    "            )\n",
    "\n",
    "            logger.info(f\"Categorical columns: {self.config.categorical_columns}\")\n",
    "            logger.info(f\"Numerical columns: {self.config.numerical_columns}\")\n",
    "\n",
    "            preprocessor = ColumnTransformer(\n",
    "                [\n",
    "                    (\"Numerical_pipeline\", numerical_pipeline, self.config.numerical_columns),\n",
    "                    (\"Categorical_pipeline\", categorical_pipeline, self.config.categorical_columns)\n",
    "                ]\n",
    "            )\n",
    "\n",
    "            return preprocessor\n",
    "\n",
    "        except Exception as e:\n",
    "            raise e\n",
    "\n",
    "    def train_test_splitting(self):\n",
    "        data = pd.read_csv(self.config.data_path)\n",
    "        train, test = train_test_split(data, test_size=0.25, random_state=42)\n",
    "        train.to_csv(self.config.data_train, index=False)\n",
    "        test.to_csv(self.config.data_test, index=False)\n",
    "        logger.info(\"Split data into training and test sets\")\n",
    "        logger.info(train.shape)\n",
    "        logger.info(test.shape)\n",
    "\n",
    "    def load_data(self):\n",
    "        train_df = pd.read_csv(self.config.data_train)\n",
    "        test_df = pd.read_csv(self.config.data_test)\n",
    "        logger.info(\"Read train and test data is completed\")\n",
    "        return train_df, test_df\n",
    "    \n",
    "    def separate_features_and_target(self, test_df, train_df, target_column_name):\n",
    "        input_feature_train_df = train_df.drop(columns=[target_column_name], axis=1)\n",
    "        target_feature_train_df = train_df[target_column_name]\n",
    "        logger.info(\"Separating X and Y for train data is completed\")\n",
    "\n",
    "        input_feature_test_df = test_df.drop(columns=[target_column_name], axis=1)\n",
    "        target_feature_test_df = test_df[target_column_name]\n",
    "        logger.info(\"Separating X and Y for test data is completed\")\n",
    "        return input_feature_train_df, target_feature_train_df, input_feature_test_df, target_feature_test_df\n",
    "\n",
    "    def apply_preprocessing(self, preprocessing_obj, input_feature_train_df, input_feature_test_df,target_feature_train_df,target_feature_test_df):\n",
    "        input_feature_train_arr = preprocessing_obj.fit_transform(input_feature_train_df)\n",
    "        input_feature_test_arr = preprocessing_obj.transform(input_feature_test_df)\n",
    "        logger.info(f\"Preprocessing object is applied on training and testing data.\")\n",
    "        train_arr = np.c_[input_feature_train_arr, np.array(target_feature_train_df)]\n",
    "        test_arr = np.c_[input_feature_test_arr, np.array(target_feature_test_df)]\n",
    "        return train_arr, test_arr\n",
    "    \n",
    "    def save_transformed_data(self, train_arr, test_arr):\n",
    "        train_transformed_df = pd.DataFrame(train_arr)\n",
    "        test_transformed_df = pd.DataFrame(test_arr)\n",
    "        train_transformed_df.to_csv(self.config.transformed_data_train, index=False)\n",
    "        test_transformed_df.to_csv(self.config.transformed_data_test, index=False)\n",
    "        logger.info(\"Saved transformed train and test data as CSV files.\")\n",
    "\n",
    "\n",
    "    def save_preprocessor(self, preprocessor):\n",
    "        try:\n",
    "            save_object_pkl(file_path=self.config.preprocessor_obj_file_path, obj=preprocessor)\n",
    "            logger.info(\"Saved preprocessing object.\")\n",
    "        except Exception as e:\n",
    "            logger.error(\"Failed to save preprocessing object:\", e)\n",
    "\n",
    "\n",
    "    def run_data_processing_pipeline(self):\n",
    "        try:\n",
    "            # Get preprocessor\n",
    "            preprocessor = self.get_data_transformer_object()\n",
    "\n",
    "            # Split data\n",
    "            self.train_test_splitting()\n",
    "\n",
    "            # Load data\n",
    "            train_df, test_df = self.load_data()\n",
    "\n",
    "            # Separate features and target\n",
    "            input_feature_train_df, target_feature_train_df, input_feature_test_df, target_feature_test_df = self.separate_features_and_target(test_df, train_df, self.config.target_column)\n",
    "\n",
    "            # Apply preprocessing\n",
    "            train_arr, test_arr = self.apply_preprocessing(preprocessor, input_feature_train_df, input_feature_test_df, target_feature_train_df, target_feature_test_df)\n",
    "\n",
    "            # Save transformed data\n",
    "            self.save_transformed_data(train_arr, test_arr)\n",
    "\n",
    "            # Save preprocessor\n",
    "            self.save_preprocessor(preprocessor)\n",
    "\n",
    "            logger.info(\"Data processing pipeline completed successfully.\")\n",
    "        except Exception as e:\n",
    "            logger.error(\"Error in data processing pipeline:\", e)\n"
   ]
  },
  {
   "cell_type": "code",
   "execution_count": 10,
   "metadata": {
    "ExecuteTime": {
     "end_time": "2024-06-25T15:12:30.864673200Z",
     "start_time": "2024-06-25T15:12:30.784828700Z"
    }
   },
   "outputs": [
    {
     "name": "stdout",
     "output_type": "stream",
     "text": [
      "[2024-06-25 08:12:30,795: INFO: common: yaml file: config\\config.yaml loaded successfully]\n",
      "[2024-06-25 08:12:30,796: INFO: common: yaml file: params.yaml loaded successfully]\n",
      "[2024-06-25 08:12:30,797: INFO: common: yaml file: schema.yaml loaded successfully]\n",
      "[2024-06-25 08:12:30,798: INFO: common: created directory at: artifacts]\n",
      "[2024-06-25 08:12:30,799: INFO: common: created directory at: artifacts/data_transformation]\n",
      "[2024-06-25 08:12:30,799: INFO: 3341653323: Categorical columns: ['gender', 'race_ethnicity', 'parental_level_of_education', 'lunch', 'test_preparation_course']]\n",
      "[2024-06-25 08:12:30,800: INFO: 3341653323: Numerical columns: ['writing_score', 'reading_score']]\n",
      "[2024-06-25 08:12:30,807: INFO: 3341653323: Split data into training and test sets]\n",
      "[2024-06-25 08:12:30,807: INFO: 3341653323: (750, 8)]\n",
      "[2024-06-25 08:12:30,808: INFO: 3341653323: (250, 8)]\n",
      "[2024-06-25 08:12:30,823: INFO: 3341653323: Read train and test data is completed]\n",
      "[2024-06-25 08:12:30,824: INFO: 3341653323: Separating X and Y for train data is completed]\n",
      "[2024-06-25 08:12:30,825: INFO: 3341653323: Separating X and Y for test data is completed]\n",
      "[2024-06-25 08:12:30,836: INFO: 3341653323: Preprocessing object is applied on training and testing data.]\n",
      "[2024-06-25 08:12:30,846: INFO: 3341653323: Saved transformed train and test data as CSV files.]\n",
      "[2024-06-25 08:12:30,847: INFO: 3341653323: Saved preprocessing object.]\n",
      "[2024-06-25 08:12:30,848: INFO: 3341653323: Data processing pipeline completed successfully.]\n"
     ]
    }
   ],
   "source": [
    "try:\n",
    "    config = ConfigurationManager()\n",
    "    data_transformation_config = config.get_data_transformation_config()\n",
    "    data_transformation = DataTransformation(config=data_transformation_config)\n",
    "    data_transformation.run_data_processing_pipeline()\n",
    "except Exception as e:\n",
    "    raise e"
   ]
  },
  {
   "cell_type": "code",
   "execution_count": 10,
   "outputs": [],
   "source": [],
   "metadata": {
    "collapsed": false,
    "ExecuteTime": {
     "end_time": "2024-06-25T15:12:30.864673200Z",
     "start_time": "2024-06-25T15:12:30.851873400Z"
    }
   }
  }
 ],
 "metadata": {
  "kernelspec": {
   "display_name": "mlproj",
   "language": "python",
   "name": "python3"
  },
  "language_info": {
   "codemirror_mode": {
    "name": "ipython",
    "version": 3
   },
   "file_extension": ".py",
   "mimetype": "text/x-python",
   "name": "python",
   "nbconvert_exporter": "python",
   "pygments_lexer": "ipython3",
   "version": "3.8.16"
  },
  "orig_nbformat": 4
 },
 "nbformat": 4,
 "nbformat_minor": 2
}
