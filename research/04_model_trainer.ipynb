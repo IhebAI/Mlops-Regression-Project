{
 "cells": [
  {
   "cell_type": "code",
   "execution_count": 1,
   "metadata": {
    "ExecuteTime": {
     "end_time": "2024-06-26T15:14:01.632188900Z",
     "start_time": "2024-06-26T15:14:01.624980200Z"
    }
   },
   "outputs": [],
   "source": [
    "import os"
   ]
  },
  {
   "cell_type": "code",
   "execution_count": 2,
   "metadata": {
    "ExecuteTime": {
     "end_time": "2024-06-26T15:14:01.638615Z",
     "start_time": "2024-06-26T15:14:01.630183300Z"
    }
   },
   "outputs": [
    {
     "data": {
      "text/plain": "'C:\\\\Users\\\\iheba\\\\IdeaProjects\\\\Mlops-Regression-Project\\\\research'"
     },
     "execution_count": 2,
     "metadata": {},
     "output_type": "execute_result"
    }
   ],
   "source": [
    "%pwd"
   ]
  },
  {
   "cell_type": "code",
   "execution_count": 3,
   "metadata": {
    "ExecuteTime": {
     "end_time": "2024-06-26T15:14:01.642881700Z",
     "start_time": "2024-06-26T15:14:01.637717200Z"
    }
   },
   "outputs": [],
   "source": [
    "os.chdir(\"../\")"
   ]
  },
  {
   "cell_type": "code",
   "execution_count": 4,
   "metadata": {
    "ExecuteTime": {
     "end_time": "2024-06-26T15:14:01.653024400Z",
     "start_time": "2024-06-26T15:14:01.643882400Z"
    }
   },
   "outputs": [
    {
     "data": {
      "text/plain": "'C:\\\\Users\\\\iheba\\\\IdeaProjects\\\\Mlops-Regression-Project'"
     },
     "execution_count": 4,
     "metadata": {},
     "output_type": "execute_result"
    }
   ],
   "source": [
    "%pwd"
   ]
  },
  {
   "cell_type": "code",
   "execution_count": 5,
   "metadata": {
    "ExecuteTime": {
     "end_time": "2024-06-26T15:14:01.696129Z",
     "start_time": "2024-06-26T15:14:01.653024400Z"
    }
   },
   "outputs": [],
   "source": [
    "from box import ConfigBox\n",
    "from dataclasses import dataclass\n",
    "from pathlib import Path\n",
    "\n",
    "\n",
    "@dataclass(frozen=True)\n",
    "class ModelTrainerConfig:\n",
    "    root_dir: Path\n",
    "    model_name: str\n",
    "    trained_model_file_path: Path\n",
    "    grid_search_evaluation_result: Path\n"
   ]
  },
  {
   "cell_type": "code",
   "execution_count": 6,
   "metadata": {
    "ExecuteTime": {
     "end_time": "2024-06-26T15:14:01.800885100Z",
     "start_time": "2024-06-26T15:14:01.696129Z"
    }
   },
   "outputs": [],
   "source": [
    "from RegressionProject.utils.common import read_yaml, create_directories, load_best_model_from_json, save_object_pkl\n",
    "from RegressionProject.constants import *"
   ]
  },
  {
   "cell_type": "code",
   "execution_count": 7,
   "metadata": {
    "ExecuteTime": {
     "end_time": "2024-06-26T15:14:01.805552100Z",
     "start_time": "2024-06-26T15:14:01.802885200Z"
    }
   },
   "outputs": [],
   "source": [
    "from RegressionProject.constants import *\n",
    "\n",
    "\n",
    "class ConfigurationManager:\n",
    "    def __init__(\n",
    "            self,\n",
    "            config_filepath=CONFIG_FILE_PATH,\n",
    "            params_filepath=PARAMS_FILE_PATH,\n",
    "            schema_filepath=SCHEMA_FILE_PATH):\n",
    "        self.config = read_yaml(config_filepath)\n",
    "        self.params = read_yaml(params_filepath)\n",
    "        self.schema = read_yaml(schema_filepath)\n",
    "\n",
    "        create_directories([self.config.artifacts_root])\n",
    "\n",
    "    def get_model_trainer_config(self) -> ModelTrainerConfig:\n",
    "        config = self.config.model_trainer\n",
    "\n",
    "        create_directories([config.root_dir])\n",
    "\n",
    "        model_trainer_config = ModelTrainerConfig(\n",
    "            root_dir=config.root_dir,\n",
    "            model_name=config.model_name,\n",
    "            trained_model_file_path=config.trained_model_file_path,\n",
    "            grid_search_evaluation_result=config.grid_search_evaluation_result,\n",
    "\n",
    "        )\n",
    "\n",
    "        return model_trainer_config"
   ]
  },
  {
   "cell_type": "code",
   "execution_count": 8,
   "metadata": {
    "ExecuteTime": {
     "end_time": "2024-06-26T15:14:02.603167600Z",
     "start_time": "2024-06-26T15:14:01.806546400Z"
    }
   },
   "outputs": [],
   "source": [
    "from catboost import CatBoostRegressor\n",
    "from sklearn.ensemble import (\n",
    "    AdaBoostRegressor,\n",
    "    GradientBoostingRegressor,\n",
    "    RandomForestRegressor,\n",
    ")\n",
    "from RegressionProject.logging import logger\n",
    "\n",
    "from sklearn.linear_model import LinearRegression\n",
    "\n",
    "from sklearn.tree import DecisionTreeRegressor\n",
    "from xgboost import XGBRegressor\n",
    "from RegressionProject.utils.common import read_yaml, create_directories\n",
    "from sklearn.metrics import r2_score\n",
    "from sklearn.model_selection import GridSearchCV\n",
    "import json\n",
    "import pandas as pd\n",
    "\n",
    "\n",
    "class ModelTrainer:\n",
    "    def __init__(self, config: ModelTrainerConfig):\n",
    "        self.config = config\n",
    "\n",
    "    def prepare_params_models_gs(self, params):\n",
    "        model_params = {\n",
    "            'Decision Tree': (DecisionTreeRegressor(), params.Decision_Tree.to_dict()),\n",
    "            'Random Forest': (RandomForestRegressor(), params.Random_Forest.to_dict()),\n",
    "            'Gradient Boosting': (GradientBoostingRegressor(), params.Gradient_Boosting.to_dict()),\n",
    "            'Linear Regression': (LinearRegression(), {}),\n",
    "            'XGBRegressor': (XGBRegressor(), params.XGBRegressor.to_dict()),\n",
    "            'CatBoosting Regressor': (CatBoostRegressor(verbose=False), params.CatBoosting_Regressor.to_dict()),\n",
    "            'AdaBoost Regressor': (AdaBoostRegressor(), params.AdaBoost_Regressor.to_dict()),\n",
    "        }\n",
    "\n",
    "        return model_params\n",
    "\n",
    "    def perform_grid_search(self, model, param_grid, X, y):\n",
    "        grid_search = GridSearchCV(estimator=model, param_grid=param_grid, cv=5, n_jobs=-1, verbose=2)\n",
    "        grid_search.fit(X, y)\n",
    "        logger.info(f\"Best params for {model.__class__.__name__}: {grid_search.best_params_}\")\n",
    "        logger.info(f\"Best score for {model.__class__.__name__}: {grid_search.best_score_}\")\n",
    "        return grid_search\n",
    "\n",
    "    def evaluate_models(self, x_train, y_train, x_test, y_test, model_params):\n",
    "        results = {}\n",
    "        for model_name, (model, param_grid) in model_params.items():\n",
    "            logger.info(f\"Performing grid search for {model_name}\")\n",
    "            grid_search = self.perform_grid_search(model, param_grid, x_train, y_train)\n",
    "\n",
    "            best_params = grid_search.best_params_\n",
    "            model.set_params(**best_params)\n",
    "            model.fit(x_train, y_train)\n",
    "\n",
    "            y_train_pred = model.predict(x_train)\n",
    "            y_test_pred = model.predict(x_test)\n",
    "\n",
    "            # Calculate training metrics\n",
    "            train_model_score = r2_score(y_train, y_train_pred)\n",
    "            test_model_score = r2_score(y_test, y_test_pred)\n",
    "\n",
    "            results[model_name] = {\n",
    "                'best_params': best_params,\n",
    "                'model': model,\n",
    "                'train_model_score': train_model_score,\n",
    "                'test_model_score': test_model_score\n",
    "            }\n",
    "            # Export results to JSON\n",
    "            with open(self.config.grid_search_evaluation_result, 'w') as f:\n",
    "                json.dump(results, f, default=str, indent=4)\n",
    "                logger.info(f\"Training results exported to {self.config.grid_search_evaluation_result} \")\n",
    "        return results\n",
    "\n",
    "    def models_trainer(self, train_x, train_y, test_x, test_y, params):\n",
    "        model_params = self.prepare_params_models_gs(params)\n",
    "        results = self.evaluate_models(train_x, train_y, test_x, test_y, model_params)\n",
    "        best_model_name = load_best_model_from_json(Path(self.config.grid_search_evaluation_result))\n",
    "        best_model = results[best_model_name]['model']\n",
    "        logger.info(\"Best Model found is : {}\".format(best_model))\n",
    "        save_object_pkl(Path(self.config.trained_model_file_path), best_model, )\n"
   ]
  },
  {
   "cell_type": "code",
   "execution_count": 9,
   "outputs": [],
   "source": [
    "# Main execution\n",
    "train_data = pd.read_csv('artifacts/data_transformation/transformed_train_data.csv')\n",
    "test_data = pd.read_csv('artifacts/data_transformation/transformed_test_data.csv')\n",
    "target_column = '19'\n",
    "train_x = train_data.drop([target_column], axis=1)\n",
    "test_x = test_data.drop([target_column], axis=1)\n",
    "train_y = train_data[target_column].values\n",
    "test_y = test_data[target_column].values"
   ],
   "metadata": {
    "collapsed": false,
    "ExecuteTime": {
     "end_time": "2024-06-26T15:14:02.615192400Z",
     "start_time": "2024-06-26T15:14:02.604169900Z"
    }
   }
  },
  {
   "cell_type": "code",
   "execution_count": 10,
   "metadata": {
    "ExecuteTime": {
     "end_time": "2024-06-26T15:14:26.164953900Z",
     "start_time": "2024-06-26T15:14:02.616220Z"
    }
   },
   "outputs": [
    {
     "name": "stdout",
     "output_type": "stream",
     "text": [
      "[2024-06-26 08:14:02,619: INFO: common: yaml file: config\\config.yaml loaded successfully]\n",
      "[2024-06-26 08:14:02,622: INFO: common: yaml file: params.yaml loaded successfully]\n",
      "[2024-06-26 08:14:02,624: INFO: common: yaml file: schema.yaml loaded successfully]\n",
      "[2024-06-26 08:14:02,625: INFO: common: created directory at: artifacts]\n",
      "[2024-06-26 08:14:02,625: INFO: common: created directory at: artifacts/model_trainer]\n",
      "[2024-06-26 08:14:02,626: INFO: 534642077: Performing grid search for Decision Tree]\n",
      "Fitting 5 folds for each of 4 candidates, totalling 20 fits\n",
      "[2024-06-26 08:14:05,953: INFO: 534642077: Best params for DecisionTreeRegressor: {'criterion': 'friedman_mse'}]\n",
      "[2024-06-26 08:14:05,954: INFO: 534642077: Best score for DecisionTreeRegressor: 0.7106879581934415]\n",
      "[2024-06-26 08:14:05,964: INFO: 534642077: Training results exported to artifacts/model_trainer/train_results.json ]\n",
      "[2024-06-26 08:14:05,965: INFO: 534642077: Performing grid search for Random Forest]\n",
      "Fitting 5 folds for each of 6 candidates, totalling 30 fits\n",
      "[2024-06-26 08:14:07,833: INFO: 534642077: Best params for RandomForestRegressor: {'n_estimators': 256}]\n",
      "[2024-06-26 08:14:07,833: INFO: 534642077: Best score for RandomForestRegressor: 0.8343684588900249]\n",
      "[2024-06-26 08:14:08,587: INFO: 534642077: Training results exported to artifacts/model_trainer/train_results.json ]\n",
      "[2024-06-26 08:14:08,588: INFO: 534642077: Performing grid search for Gradient Boosting]\n",
      "Fitting 5 folds for each of 144 candidates, totalling 720 fits\n",
      "[2024-06-26 08:14:14,733: INFO: 534642077: Best params for GradientBoostingRegressor: {'learning_rate': 0.05, 'n_estimators': 128, 'subsample': 0.6}]\n",
      "[2024-06-26 08:14:14,734: INFO: 534642077: Best score for GradientBoostingRegressor: 0.8528252643993446]\n",
      "[2024-06-26 08:14:14,824: INFO: 534642077: Training results exported to artifacts/model_trainer/train_results.json ]\n",
      "[2024-06-26 08:14:14,825: INFO: 534642077: Performing grid search for Linear Regression]\n",
      "Fitting 5 folds for each of 1 candidates, totalling 5 fits\n",
      "[2024-06-26 08:14:14,851: INFO: 534642077: Best params for LinearRegression: {}]\n",
      "[2024-06-26 08:14:14,852: INFO: 534642077: Best score for LinearRegression: 0.8678130154302321]\n",
      "[2024-06-26 08:14:14,861: INFO: 534642077: Training results exported to artifacts/model_trainer/train_results.json ]\n",
      "[2024-06-26 08:14:14,862: INFO: 534642077: Performing grid search for XGBRegressor]\n",
      "Fitting 5 folds for each of 24 candidates, totalling 120 fits\n",
      "[2024-06-26 08:14:16,988: INFO: 534642077: Best params for XGBRegressor: {'learning_rate': 0.1, 'n_estimators': 32}]\n",
      "[2024-06-26 08:14:16,989: INFO: 534642077: Best score for XGBRegressor: 0.8323733240716148]\n",
      "[2024-06-26 08:14:17,063: INFO: 534642077: Training results exported to artifacts/model_trainer/train_results.json ]\n",
      "[2024-06-26 08:14:17,064: INFO: 534642077: Performing grid search for CatBoosting Regressor]\n",
      "Fitting 5 folds for each of 27 candidates, totalling 135 fits\n",
      "[2024-06-26 08:14:23,335: INFO: 534642077: Best params for CatBoostRegressor: {'depth': 6, 'iterations': 100, 'learning_rate': 0.1}]\n",
      "[2024-06-26 08:14:23,336: INFO: 534642077: Best score for CatBoostRegressor: 0.8511799032553032]\n",
      "[2024-06-26 08:14:23,447: INFO: 534642077: Training results exported to artifacts/model_trainer/train_results.json ]\n",
      "[2024-06-26 08:14:23,448: INFO: 534642077: Performing grid search for AdaBoost Regressor]\n",
      "Fitting 5 folds for each of 24 candidates, totalling 120 fits\n",
      "[2024-06-26 08:14:25,838: INFO: 534642077: Best params for AdaBoostRegressor: {'learning_rate': 0.5, 'n_estimators': 256}]\n",
      "[2024-06-26 08:14:25,840: INFO: 534642077: Best score for AdaBoostRegressor: 0.8242808681216008]\n",
      "[2024-06-26 08:14:26,149: INFO: 534642077: Training results exported to artifacts/model_trainer/train_results.json ]\n",
      "[2024-06-26 08:14:26,156: INFO: 534642077: Best Model found is : LinearRegression()]\n",
      "[2024-06-26 08:14:26,158: INFO: common: pickle object saved at artifacts\\model_trainer\\best_model.pkl]\n"
     ]
    }
   ],
   "source": [
    "\n",
    "try:\n",
    "    config = ConfigurationManager()\n",
    "    model_trainer_config = config.get_model_trainer_config()\n",
    "    model_trainer = ModelTrainer(config=model_trainer_config)\n",
    "    model_params = model_trainer.models_trainer(train_x, train_y, test_x, test_y, config.params)\n",
    "except Exception as e:\n",
    "    raise e"
   ]
  },
  {
   "cell_type": "code",
   "execution_count": 10,
   "outputs": [],
   "source": [],
   "metadata": {
    "collapsed": false,
    "ExecuteTime": {
     "end_time": "2024-06-26T15:14:26.164953900Z",
     "start_time": "2024-06-26T15:14:26.163443500Z"
    }
   }
  }
 ],
 "metadata": {
  "kernelspec": {
   "display_name": "mlproj",
   "language": "python",
   "name": "python3"
  },
  "language_info": {
   "codemirror_mode": {
    "name": "ipython",
    "version": 3
   },
   "file_extension": ".py",
   "mimetype": "text/x-python",
   "name": "python",
   "nbconvert_exporter": "python",
   "pygments_lexer": "ipython3",
   "version": "3.8.16"
  },
  "orig_nbformat": 4
 },
 "nbformat": 4,
 "nbformat_minor": 2
}
