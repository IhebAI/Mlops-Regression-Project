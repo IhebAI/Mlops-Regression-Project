{
 "cells": [
  {
   "cell_type": "code",
   "execution_count": null,
   "metadata": {
    "is_executing": true
   },
   "outputs": [],
   "source": [
    "import os"
   ]
  },
  {
   "cell_type": "code",
   "execution_count": null,
   "metadata": {
    "is_executing": true
   },
   "outputs": [],
   "source": [
    "%pwd"
   ]
  },
  {
   "cell_type": "code",
   "execution_count": null,
   "metadata": {
    "is_executing": true
   },
   "outputs": [],
   "source": [
    "os.chdir(\"../\")"
   ]
  },
  {
   "cell_type": "code",
   "execution_count": null,
   "metadata": {
    "is_executing": true
   },
   "outputs": [],
   "source": [
    "%pwd"
   ]
  },
  {
   "cell_type": "code",
   "execution_count": null,
   "metadata": {
    "is_executing": true
   },
   "outputs": [],
   "source": [
    "from box import ConfigBox\n",
    "from dataclasses import dataclass\n",
    "from pathlib import Path\n",
    "\n",
    "\n",
    "@dataclass(frozen=True)\n",
    "class ModelTrainerConfig:\n",
    "    root_dir: Path\n",
    "    model_name: str\n",
    "    trained_model_file_path: Path\n",
    "    grid_search_evaluation_result: Path\n",
    "    transformed_train_data_path: Path\n",
    "    transformed_test_data_path: Path\n"
   ]
  },
  {
   "cell_type": "code",
   "execution_count": null,
   "metadata": {
    "is_executing": true
   },
   "outputs": [],
   "source": [
    "from RegressionProject.utils.common import read_yaml, create_directories, save_object_pkl, save_json\n",
    "from RegressionProject.constants import *"
   ]
  },
  {
   "cell_type": "code",
   "execution_count": null,
   "metadata": {
    "is_executing": true
   },
   "outputs": [],
   "source": [
    "from RegressionProject.constants import *\n",
    "\n",
    "\n",
    "class ConfigurationManager:\n",
    "    def __init__(\n",
    "            self,\n",
    "            config_filepath=CONFIG_FILE_PATH,\n",
    "            params_filepath=PARAMS_FILE_PATH,\n",
    "            schema_filepath=SCHEMA_FILE_PATH):\n",
    "        self.config = read_yaml(config_filepath)\n",
    "        self.params = read_yaml(params_filepath)\n",
    "        self.schema = read_yaml(schema_filepath)\n",
    "\n",
    "        create_directories([self.config.artifacts_root])\n",
    "\n",
    "    def get_model_trainer_config(self) -> ModelTrainerConfig:\n",
    "        data_transformation_config = self.config.data_transformation\n",
    "        train_config = self.config.model_trainer\n",
    "\n",
    "        create_directories([train_config.root_dir])\n",
    "\n",
    "        model_trainer_config = ModelTrainerConfig(\n",
    "            root_dir=train_config.root_dir,\n",
    "            model_name=train_config.model_name,\n",
    "            trained_model_file_path=train_config.trained_model_file_path,\n",
    "            grid_search_evaluation_result=train_config.grid_search_evaluation_result,\n",
    "            transformed_train_data_path=data_transformation_config.transformed_data_train,\n",
    "            transformed_test_data_path=data_transformation_config.transformed_data_test\n",
    "\n",
    "        )\n",
    "\n",
    "        return model_trainer_config"
   ]
  },
  {
   "cell_type": "code",
   "execution_count": null,
   "metadata": {
    "is_executing": true
   },
   "outputs": [],
   "source": [
    "from catboost import CatBoostRegressor\n",
    "from sklearn.ensemble import (\n",
    "    AdaBoostRegressor,\n",
    "    GradientBoostingRegressor,\n",
    "    RandomForestRegressor,\n",
    ")\n",
    "from RegressionProject.logging import logger\n",
    "from sklearn.linear_model import LinearRegression\n",
    "from sklearn.tree import DecisionTreeRegressor\n",
    "from xgboost import XGBRegressor\n",
    "from RegressionProject.utils.common import read_yaml, create_directories, load_json\n",
    "from sklearn.metrics import r2_score\n",
    "from sklearn.model_selection import GridSearchCV\n",
    "import pandas as pd\n",
    "\n",
    "\n",
    "class ModelTrainer:\n",
    "    def __init__(self, config: ModelTrainerConfig):\n",
    "        self.config = config\n",
    "\n",
    "    def prepare_params_models_gs(self, params):\n",
    "        model_params = {\n",
    "            'Decision Tree': (DecisionTreeRegressor(), params.Decision_Tree.to_dict()),\n",
    "            'Random Forest': (RandomForestRegressor(), params.Random_Forest.to_dict()),\n",
    "            'Gradient Boosting': (GradientBoostingRegressor(), params.Gradient_Boosting.to_dict()),\n",
    "            'Linear Regression': (LinearRegression(), {}),\n",
    "            'XGBRegressor': (XGBRegressor(), params.XGBRegressor.to_dict()),\n",
    "            'CatBoosting Regressor': (CatBoostRegressor(verbose=False), params.CatBoosting_Regressor.to_dict()),\n",
    "            'AdaBoost Regressor': (AdaBoostRegressor(), params.AdaBoost_Regressor.to_dict()),\n",
    "        }\n",
    "        return model_params\n",
    "\n",
    "    def perform_grid_search(self, model, param_grid, X, y):\n",
    "        grid_search = GridSearchCV(estimator=model, param_grid=param_grid, cv=5, n_jobs=-1, verbose=2)\n",
    "        grid_search.fit(X, y)\n",
    "        logger.info(f\"Best params for {model.__class__.__name__}: {grid_search.best_params_}\")\n",
    "        logger.info(f\"Best score for {model.__class__.__name__}: {grid_search.best_score_}\")\n",
    "        return grid_search\n",
    "\n",
    "    def evaluate_models(self, x_train, y_train, x_test, y_test, model_params):\n",
    "        results = {}\n",
    "        for model_name, (model, param_grid) in model_params.items():\n",
    "            logger.info(f\"Performing grid search for {model_name}\")\n",
    "            grid_search = self.perform_grid_search(model, param_grid, x_train, y_train)\n",
    "\n",
    "            best_params = grid_search.best_params_\n",
    "            model.set_params(**best_params)\n",
    "            model.fit(x_train, y_train)\n",
    "\n",
    "            y_train_pred = model.predict(x_train)\n",
    "            y_test_pred = model.predict(x_test)\n",
    "\n",
    "            # Calculate training and test metrics\n",
    "            train_model_score = r2_score(y_train, y_train_pred)\n",
    "            test_model_score = r2_score(y_test, y_test_pred)\n",
    "\n",
    "            results[model_name] = {\n",
    "                'best_params': best_params,\n",
    "                'model': model,\n",
    "                'train_model_score': train_model_score,\n",
    "                'test_model_score': test_model_score\n",
    "            }\n",
    "            # Export results to JSON\n",
    "        save_json(Path(self.config.grid_search_evaluation_result), results)\n",
    "        logger.info(f\"Training results after grid search is exported to {self.config.grid_search_evaluation_result} \")\n",
    "\n",
    "    def read_transformed_data(self, transformed_train_data_path, transformed_test_data_path):\n",
    "        train_data = pd.read_csv(transformed_train_data_path)\n",
    "        test_data = pd.read_csv(transformed_test_data_path)\n",
    "        target_column = train_data.columns[-1]\n",
    "        train_x = train_data.drop([target_column], axis=1)\n",
    "        test_x = test_data.drop([target_column], axis=1)\n",
    "        train_y = train_data[target_column].values\n",
    "        test_y = test_data[target_column].values\n",
    "        return train_x, train_y, test_x, test_y\n",
    "\n",
    "    def models_trainer(self, params, transformed_train_data_path, transformed_test_data_path):\n",
    "        train_x, train_y, test_x, test_y = self.read_transformed_data(transformed_train_data_path,\n",
    "                                                                      transformed_test_data_path)\n",
    "        model_params = self.prepare_params_models_gs(params)\n",
    "        self.evaluate_models(train_x, train_y, test_x, test_y, model_params)\n",
    "        results = load_json(Path(self.config.grid_search_evaluation_result))\n",
    "        best_model_name = max(results, key=lambda x: results[x]['test_model_score'])\n",
    "        best_model = results[best_model_name]['model']\n",
    "        logger.info(\"Best Model found is : {}\".format(best_model))\n",
    "        save_object_pkl(Path(self.config.trained_model_file_path), best_model, )\n"
   ]
  },
  {
   "cell_type": "code",
   "execution_count": null,
   "outputs": [],
   "source": [
    "try:\n",
    "    config = ConfigurationManager()\n",
    "    model_trainer_config = config.get_model_trainer_config()\n",
    "    model_trainer = ModelTrainer(config=model_trainer_config)\n",
    "    model_params = model_trainer.models_trainer(config.params, model_trainer_config.transformed_train_data_path,\n",
    "                                                model_trainer_config.transformed_test_data_path)\n",
    "except Exception as e:\n",
    "    raise e"
   ],
   "metadata": {
    "collapsed": false,
    "is_executing": true
   }
  }
 ],
 "metadata": {
  "kernelspec": {
   "display_name": "mlproj",
   "language": "python",
   "name": "python3"
  },
  "language_info": {
   "codemirror_mode": {
    "name": "ipython",
    "version": 3
   },
   "file_extension": ".py",
   "mimetype": "text/x-python",
   "name": "python",
   "nbconvert_exporter": "python",
   "pygments_lexer": "ipython3",
   "version": "3.8.16"
  },
  "orig_nbformat": 4
 },
 "nbformat": 4,
 "nbformat_minor": 2
}
