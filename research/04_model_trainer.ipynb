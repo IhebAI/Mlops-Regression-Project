{
 "cells": [
  {
   "cell_type": "code",
   "execution_count": 1,
   "metadata": {
    "ExecuteTime": {
     "end_time": "2024-07-05T19:08:04.813598600Z",
     "start_time": "2024-07-05T19:08:04.790964800Z"
    }
   },
   "outputs": [],
   "source": [
    "import os"
   ]
  },
  {
   "cell_type": "code",
   "execution_count": 2,
   "metadata": {
    "ExecuteTime": {
     "end_time": "2024-07-05T19:08:04.814600700Z",
     "start_time": "2024-07-05T19:08:04.801418700Z"
    }
   },
   "outputs": [
    {
     "data": {
      "text/plain": "'C:\\\\Users\\\\iheba\\\\IdeaProjects\\\\Mlops-Regression-Project\\\\research'"
     },
     "execution_count": 2,
     "metadata": {},
     "output_type": "execute_result"
    }
   ],
   "source": [
    "%pwd"
   ]
  },
  {
   "cell_type": "code",
   "execution_count": 3,
   "metadata": {
    "ExecuteTime": {
     "end_time": "2024-07-05T19:08:04.827494400Z",
     "start_time": "2024-07-05T19:08:04.815599700Z"
    }
   },
   "outputs": [],
   "source": [
    "os.chdir(\"../\")"
   ]
  },
  {
   "cell_type": "code",
   "execution_count": 4,
   "metadata": {
    "ExecuteTime": {
     "end_time": "2024-07-05T19:08:04.837857200Z",
     "start_time": "2024-07-05T19:08:04.824974500Z"
    }
   },
   "outputs": [
    {
     "data": {
      "text/plain": "'C:\\\\Users\\\\iheba\\\\IdeaProjects\\\\Mlops-Regression-Project'"
     },
     "execution_count": 4,
     "metadata": {},
     "output_type": "execute_result"
    }
   ],
   "source": [
    "%pwd"
   ]
  },
  {
   "cell_type": "code",
   "execution_count": 5,
   "metadata": {
    "ExecuteTime": {
     "end_time": "2024-07-05T19:08:04.887576Z",
     "start_time": "2024-07-05T19:08:04.840857700Z"
    }
   },
   "outputs": [],
   "source": [
    "from dataclasses import dataclass\n",
    "from pathlib import Path\n",
    "\n",
    "\n",
    "@dataclass(frozen=True)\n",
    "class ModelTrainerConfig:\n",
    "    root_dir: Path\n",
    "    model_name: str\n",
    "    trained_model_file_path: Path\n",
    "    grid_search_evaluation_result: Path\n",
    "    transformed_train_data_path: Path\n",
    "    transformed_test_data_path: Path\n"
   ]
  },
  {
   "cell_type": "code",
   "execution_count": 6,
   "metadata": {
    "ExecuteTime": {
     "end_time": "2024-07-05T19:08:05.806113200Z",
     "start_time": "2024-07-05T19:08:04.849021400Z"
    }
   },
   "outputs": [],
   "source": [
    "from RegressionProject.utils.common import read_yaml, create_directories, save_json\n",
    "from RegressionProject.constants import *"
   ]
  },
  {
   "cell_type": "code",
   "execution_count": 7,
   "metadata": {
    "ExecuteTime": {
     "end_time": "2024-07-05T19:08:05.816927300Z",
     "start_time": "2024-07-05T19:08:05.813403300Z"
    }
   },
   "outputs": [],
   "source": [
    "from RegressionProject.constants import *\n",
    "\n",
    "\n",
    "class ConfigurationManager:\n",
    "    def __init__(\n",
    "            self,\n",
    "            config_filepath=CONFIG_FILE_PATH,\n",
    "            params_filepath=PARAMS_FILE_PATH,\n",
    "            schema_filepath=SCHEMA_FILE_PATH):\n",
    "        self.config = read_yaml(config_filepath)\n",
    "        self.params = read_yaml(params_filepath)\n",
    "        self.schema = read_yaml(schema_filepath)\n",
    "\n",
    "        create_directories([self.config.artifacts_root])\n",
    "\n",
    "    def get_model_trainer_config(self) -> ModelTrainerConfig:\n",
    "        data_transformation_config = self.config.data_transformation\n",
    "        train_config = self.config.model_trainer\n",
    "\n",
    "        create_directories([train_config.root_dir])\n",
    "\n",
    "        model_trainer_config = ModelTrainerConfig(\n",
    "            root_dir=train_config.root_dir,\n",
    "            model_name=train_config.model_name,\n",
    "            trained_model_file_path=train_config.trained_model_file_path,\n",
    "            grid_search_evaluation_result=train_config.grid_search_evaluation_result,\n",
    "            transformed_train_data_path=data_transformation_config.transformed_data_train,\n",
    "            transformed_test_data_path=data_transformation_config.transformed_data_test\n",
    "\n",
    "        )\n",
    "\n",
    "        return model_trainer_config"
   ]
  },
  {
   "cell_type": "code",
   "execution_count": 8,
   "metadata": {
    "ExecuteTime": {
     "end_time": "2024-07-05T19:08:10.039519500Z",
     "start_time": "2024-07-05T19:08:05.831452700Z"
    }
   },
   "outputs": [],
   "source": [
    "from catboost import CatBoostRegressor\n",
    "from sklearn.ensemble import (\n",
    "    AdaBoostRegressor,\n",
    "    GradientBoostingRegressor,\n",
    "    RandomForestRegressor,\n",
    ")\n",
    "from RegressionProject.logging import logger\n",
    "from sklearn.linear_model import LinearRegression\n",
    "from sklearn.tree import DecisionTreeRegressor\n",
    "from xgboost import XGBRegressor\n",
    "from RegressionProject.constants import *\n",
    "from RegressionProject.utils.common import read_yaml, create_directories, load_best_model_from_json, save_object_pkl, \\\n",
    "    read_transformed_data\n",
    "from sklearn.metrics import r2_score\n",
    "from sklearn.model_selection import GridSearchCV\n",
    "import pandas as pd\n",
    "\n",
    "\n",
    "class ModelTrainer:\n",
    "    def __init__(self, config: ModelTrainerConfig):\n",
    "        self.config = config\n",
    "\n",
    "    def prepare_params_models_gs(self, params):\n",
    "        model_params = {\n",
    "            'Decision Tree': (DecisionTreeRegressor(), params.Decision_Tree.to_dict()),\n",
    "            'Random Forest': (RandomForestRegressor(), params.Random_Forest.to_dict()),\n",
    "            'Gradient Boosting': (GradientBoostingRegressor(), params.Gradient_Boosting.to_dict()),\n",
    "            'Linear Regression': (LinearRegression(), {}),\n",
    "            'XGBRegressor': (XGBRegressor(), params.XGBRegressor.to_dict()),\n",
    "            'CatBoosting Regressor': (CatBoostRegressor(verbose=False), params.CatBoosting_Regressor.to_dict()),\n",
    "            'AdaBoost Regressor': (AdaBoostRegressor(), params.AdaBoost_Regressor.to_dict()),\n",
    "        }\n",
    "\n",
    "        return model_params\n",
    "\n",
    "    def perform_grid_search(self, model, param_grid, X, y):\n",
    "        grid_search = GridSearchCV(estimator=model, param_grid=param_grid, cv=5, n_jobs=-1, verbose=2)\n",
    "        grid_search.fit(X, y)\n",
    "        logger.info(f\"Best params for {model.__class__.__name__}: {grid_search.best_params_}\")\n",
    "        logger.info(f\"Best score for {model.__class__.__name__}: {grid_search.best_score_}\")\n",
    "        return grid_search\n",
    "\n",
    "    def evaluate_models(self, x_train, y_train, x_test, y_test, model_params):\n",
    "        results = {}\n",
    "        for model_name, (model, param_grid) in model_params.items():\n",
    "            logger.info(f\"Performing grid search for {model_name}\")\n",
    "            grid_search = self.perform_grid_search(model, param_grid, x_train, y_train)\n",
    "\n",
    "            best_params = grid_search.best_params_\n",
    "            model.set_params(**best_params)\n",
    "            model.fit(x_train, y_train)\n",
    "\n",
    "            y_train_pred = model.predict(x_train)\n",
    "            y_test_pred = model.predict(x_test)\n",
    "\n",
    "            # Calculate training metrics\n",
    "            train_model_score = r2_score(y_train, y_train_pred)\n",
    "            test_model_score = r2_score(y_test, y_test_pred)\n",
    "\n",
    "            results[model_name] = {\n",
    "                'best_params': best_params,\n",
    "                'model': model,\n",
    "                'train_model_score': train_model_score,\n",
    "                'test_model_score': test_model_score\n",
    "            }\n",
    "            # Export results to JSON\n",
    "            save_json(Path(self.config.grid_search_evaluation_result), results)\n",
    "            logger.info(f\"Training results exported to {self.config.grid_search_evaluation_result} \")\n",
    "        return results\n",
    "\n",
    "    def models_trainer(self, params, transformed_train_data_path, transformed_test_data_path):\n",
    "        train_x, train_y, test_x, test_y = read_transformed_data(transformed_train_data_path,\n",
    "                                                                 transformed_test_data_path)\n",
    "        model_params = self.prepare_params_models_gs(params)\n",
    "        results = self.evaluate_models(train_x, train_y, test_x, test_y, model_params)\n",
    "        best_model_name,_ = load_best_model_from_json(self.config.grid_search_evaluation_result)\n",
    "        best_model = results[best_model_name]['model']\n",
    "        best_model_score= results[best_model_name]['test_model_score']\n",
    "        logger.info(\"Best Model found is : {} with a test score {}\".format(best_model_name,best_model_score) )\n",
    "        save_object_pkl(self.config.trained_model_file_path, best_model, )\n",
    "\n"
   ]
  },
  {
   "cell_type": "code",
   "execution_count": 9,
   "outputs": [
    {
     "name": "stdout",
     "output_type": "stream",
     "text": [
      "[2024-07-05 12:08:10,047: INFO: common: yaml file: config\\config.yaml loaded successfully]\n",
      "[2024-07-05 12:08:10,056: INFO: common: yaml file: params.yaml loaded successfully]\n",
      "[2024-07-05 12:08:10,061: INFO: common: yaml file: schema.yaml loaded successfully]\n",
      "[2024-07-05 12:08:10,064: INFO: common: created directory at: artifacts]\n",
      "[2024-07-05 12:08:10,066: INFO: common: created directory at: artifacts/model_trainer]\n",
      "[2024-07-05 12:08:10,086: INFO: 99512431: Performing grid search for Decision Tree]\n",
      "Fitting 5 folds for each of 4 candidates, totalling 20 fits\n",
      "[2024-07-05 12:08:16,103: INFO: 99512431: Best params for DecisionTreeRegressor: {'criterion': 'friedman_mse'}]\n",
      "[2024-07-05 12:08:16,104: INFO: 99512431: Best score for DecisionTreeRegressor: 0.7154480652275731]\n",
      "[2024-07-05 12:08:16,132: INFO: common: json file saved at: artifacts\\model_trainer\\train_results.json]\n",
      "[2024-07-05 12:08:16,134: INFO: 99512431: Training results exported to artifacts/model_trainer/train_results.json ]\n",
      "[2024-07-05 12:08:16,135: INFO: 99512431: Performing grid search for Random Forest]\n",
      "Fitting 5 folds for each of 6 candidates, totalling 30 fits\n",
      "[2024-07-05 12:08:18,334: INFO: 99512431: Best params for RandomForestRegressor: {'n_estimators': 64}]\n",
      "[2024-07-05 12:08:18,335: INFO: 99512431: Best score for RandomForestRegressor: 0.8339789013498278]\n",
      "[2024-07-05 12:08:18,743: INFO: common: json file saved at: artifacts\\model_trainer\\train_results.json]\n",
      "[2024-07-05 12:08:18,745: INFO: 99512431: Training results exported to artifacts/model_trainer/train_results.json ]\n",
      "[2024-07-05 12:08:18,747: INFO: 99512431: Performing grid search for Gradient Boosting]\n",
      "Fitting 5 folds for each of 144 candidates, totalling 720 fits\n",
      "[2024-07-05 12:08:29,345: INFO: 99512431: Best params for GradientBoostingRegressor: {'learning_rate': 0.05, 'n_estimators': 128, 'subsample': 0.8}]\n",
      "[2024-07-05 12:08:29,347: INFO: 99512431: Best score for GradientBoostingRegressor: 0.8525839469343867]\n",
      "[2024-07-05 12:08:29,620: INFO: common: json file saved at: artifacts\\model_trainer\\train_results.json]\n",
      "[2024-07-05 12:08:29,622: INFO: 99512431: Training results exported to artifacts/model_trainer/train_results.json ]\n",
      "[2024-07-05 12:08:29,623: INFO: 99512431: Performing grid search for Linear Regression]\n",
      "Fitting 5 folds for each of 1 candidates, totalling 5 fits\n",
      "[2024-07-05 12:08:29,689: INFO: 99512431: Best params for LinearRegression: {}]\n",
      "[2024-07-05 12:08:29,691: INFO: 99512431: Best score for LinearRegression: 0.8678130154302321]\n",
      "[2024-07-05 12:08:29,715: INFO: common: json file saved at: artifacts\\model_trainer\\train_results.json]\n",
      "[2024-07-05 12:08:29,716: INFO: 99512431: Training results exported to artifacts/model_trainer/train_results.json ]\n",
      "[2024-07-05 12:08:29,718: INFO: 99512431: Performing grid search for XGBRegressor]\n",
      "Fitting 5 folds for each of 24 candidates, totalling 120 fits\n",
      "[2024-07-05 12:08:34,594: INFO: 99512431: Best params for XGBRegressor: {'learning_rate': 0.1, 'n_estimators': 32}]\n",
      "[2024-07-05 12:08:34,595: INFO: 99512431: Best score for XGBRegressor: 0.8323733240716148]\n",
      "[2024-07-05 12:08:34,716: INFO: common: json file saved at: artifacts\\model_trainer\\train_results.json]\n",
      "[2024-07-05 12:08:34,717: INFO: 99512431: Training results exported to artifacts/model_trainer/train_results.json ]\n",
      "[2024-07-05 12:08:34,718: INFO: 99512431: Performing grid search for CatBoosting Regressor]\n",
      "Fitting 5 folds for each of 27 candidates, totalling 135 fits\n",
      "[2024-07-05 12:08:46,369: INFO: 99512431: Best params for CatBoostRegressor: {'depth': 6, 'iterations': 100, 'learning_rate': 0.1}]\n",
      "[2024-07-05 12:08:46,370: INFO: 99512431: Best score for CatBoostRegressor: 0.8511799032553032]\n",
      "[2024-07-05 12:08:46,599: INFO: common: json file saved at: artifacts\\model_trainer\\train_results.json]\n",
      "[2024-07-05 12:08:46,600: INFO: 99512431: Training results exported to artifacts/model_trainer/train_results.json ]\n",
      "[2024-07-05 12:08:46,601: INFO: 99512431: Performing grid search for AdaBoost Regressor]\n",
      "Fitting 5 folds for each of 24 candidates, totalling 120 fits\n",
      "[2024-07-05 12:08:50,907: INFO: 99512431: Best params for AdaBoostRegressor: {'learning_rate': 0.5, 'n_estimators': 128}]\n",
      "[2024-07-05 12:08:50,909: INFO: 99512431: Best score for AdaBoostRegressor: 0.8235755836226245]\n",
      "[2024-07-05 12:08:51,339: INFO: common: json file saved at: artifacts\\model_trainer\\train_results.json]\n",
      "[2024-07-05 12:08:51,341: INFO: 99512431: Training results exported to artifacts/model_trainer/train_results.json ]\n",
      "[2024-07-05 12:08:51,359: INFO: 99512431: Best Model found is : Linear Regression with a test score 0.8783576426567057]\n",
      "[2024-07-05 12:08:51,363: INFO: common: pickle object saved at artifacts/model_trainer/best_model.pkl]\n"
     ]
    }
   ],
   "source": [
    "try:\n",
    "    config = ConfigurationManager()\n",
    "    model_trainer_config = config.get_model_trainer_config()\n",
    "    model_trainer = ModelTrainer(config=model_trainer_config)\n",
    "    model_params = model_trainer.models_trainer(config.params, model_trainer_config.transformed_train_data_path,\n",
    "                                                model_trainer_config.transformed_test_data_path)\n",
    "except Exception as e:\n",
    "    raise e"
   ],
   "metadata": {
    "collapsed": false,
    "ExecuteTime": {
     "end_time": "2024-07-05T19:08:51.389337800Z",
     "start_time": "2024-07-05T19:08:10.042528800Z"
    }
   }
  }
 ],
 "metadata": {
  "kernelspec": {
   "display_name": "mlproj",
   "language": "python",
   "name": "python3"
  },
  "language_info": {
   "codemirror_mode": {
    "name": "ipython",
    "version": 3
   },
   "file_extension": ".py",
   "mimetype": "text/x-python",
   "name": "python",
   "nbconvert_exporter": "python",
   "pygments_lexer": "ipython3",
   "version": "3.8.16"
  },
  "orig_nbformat": 4
 },
 "nbformat": 4,
 "nbformat_minor": 2
}
